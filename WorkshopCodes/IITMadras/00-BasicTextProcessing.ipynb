{
 "cells": [
  {
   "cell_type": "code",
   "execution_count": 1,
   "id": "f0ac854f-f204-4e66-8948-c8404d98d61a",
   "metadata": {},
   "outputs": [],
   "source": [
    "import pandas as pd\n",
    "import nltk\n",
    "from collections import Counter\n",
    "from nltk.corpus import stopwords\n",
    "from nltk.stem import PorterStemmer\n",
    "from nltk.tokenize import word_tokenize"
   ]
  },
  {
   "cell_type": "markdown",
   "id": "2d0516f6-7c55-44da-8be9-ef8c241b4a52",
   "metadata": {},
   "source": [
    "# 01 - Load the data"
   ]
  },
  {
   "cell_type": "code",
   "execution_count": 2,
   "id": "83ecfd95-f1fa-429c-ad35-4a54538a135c",
   "metadata": {},
   "outputs": [
    {
     "data": {
      "text/html": [
       "<div>\n",
       "<style scoped>\n",
       "    .dataframe tbody tr th:only-of-type {\n",
       "        vertical-align: middle;\n",
       "    }\n",
       "\n",
       "    .dataframe tbody tr th {\n",
       "        vertical-align: top;\n",
       "    }\n",
       "\n",
       "    .dataframe thead th {\n",
       "        text-align: right;\n",
       "    }\n",
       "</style>\n",
       "<table border=\"1\" class=\"dataframe\">\n",
       "  <thead>\n",
       "    <tr style=\"text-align: right;\">\n",
       "      <th></th>\n",
       "      <th>review</th>\n",
       "      <th>sentiment</th>\n",
       "    </tr>\n",
       "  </thead>\n",
       "  <tbody>\n",
       "    <tr>\n",
       "      <th>0</th>\n",
       "      <td>One of the other reviewers has mentioned that ...</td>\n",
       "      <td>positive</td>\n",
       "    </tr>\n",
       "    <tr>\n",
       "      <th>1</th>\n",
       "      <td>A wonderful little production. &lt;br /&gt;&lt;br /&gt;The...</td>\n",
       "      <td>positive</td>\n",
       "    </tr>\n",
       "    <tr>\n",
       "      <th>2</th>\n",
       "      <td>I thought this was a wonderful way to spend ti...</td>\n",
       "      <td>positive</td>\n",
       "    </tr>\n",
       "    <tr>\n",
       "      <th>3</th>\n",
       "      <td>Basically there's a family where a little boy ...</td>\n",
       "      <td>negative</td>\n",
       "    </tr>\n",
       "    <tr>\n",
       "      <th>4</th>\n",
       "      <td>Petter Mattei's \"Love in the Time of Money\" is...</td>\n",
       "      <td>positive</td>\n",
       "    </tr>\n",
       "  </tbody>\n",
       "</table>\n",
       "</div>"
      ],
      "text/plain": [
       "                                              review sentiment\n",
       "0  One of the other reviewers has mentioned that ...  positive\n",
       "1  A wonderful little production. <br /><br />The...  positive\n",
       "2  I thought this was a wonderful way to spend ti...  positive\n",
       "3  Basically there's a family where a little boy ...  negative\n",
       "4  Petter Mattei's \"Love in the Time of Money\" is...  positive"
      ]
     },
     "execution_count": 2,
     "metadata": {},
     "output_type": "execute_result"
    }
   ],
   "source": [
    "# data source: Kaggle - https://www.kaggle.com/datasets/lakshmi25npathi/imdb-dataset-of-50k-movie-reviews\n",
    "df_original = pd.read_csv('data/01-IMDB Dataset.csv')\n",
    "df_original.head()"
   ]
  },
  {
   "cell_type": "code",
   "execution_count": 3,
   "id": "2773636a-d48d-4668-a41a-0fd8a8449563",
   "metadata": {},
   "outputs": [
    {
     "data": {
      "text/plain": [
       "sentiment\n",
       "positive    25000\n",
       "negative    25000\n",
       "Name: count, dtype: int64"
      ]
     },
     "execution_count": 3,
     "metadata": {},
     "output_type": "execute_result"
    }
   ],
   "source": [
    "df_original['sentiment'].value_counts()"
   ]
  },
  {
   "cell_type": "code",
   "execution_count": 4,
   "id": "237e964d-112e-4ed8-8da5-6f48b716d8fe",
   "metadata": {},
   "outputs": [
    {
     "data": {
      "text/plain": [
       "sentiment\n",
       "negative    50\n",
       "positive    50\n",
       "Name: count, dtype: int64"
      ]
     },
     "execution_count": 4,
     "metadata": {},
     "output_type": "execute_result"
    }
   ],
   "source": [
    "# Sample 1K each positive and negative reviews\n",
    "df = df_original.groupby('sentiment').sample(n=50, random_state=1).reset_index(drop=True)\n",
    "df['sentiment'].value_counts()"
   ]
  },
  {
   "cell_type": "code",
   "execution_count": 5,
   "id": "c2f952f1-cca6-41c6-a9d8-298520a14013",
   "metadata": {},
   "outputs": [
    {
     "data": {
      "text/html": [
       "<div>\n",
       "<style scoped>\n",
       "    .dataframe tbody tr th:only-of-type {\n",
       "        vertical-align: middle;\n",
       "    }\n",
       "\n",
       "    .dataframe tbody tr th {\n",
       "        vertical-align: top;\n",
       "    }\n",
       "\n",
       "    .dataframe thead th {\n",
       "        text-align: right;\n",
       "    }\n",
       "</style>\n",
       "<table border=\"1\" class=\"dataframe\">\n",
       "  <thead>\n",
       "    <tr style=\"text-align: right;\">\n",
       "      <th></th>\n",
       "      <th>review</th>\n",
       "      <th>sentiment</th>\n",
       "    </tr>\n",
       "  </thead>\n",
       "  <tbody>\n",
       "    <tr>\n",
       "      <th>0</th>\n",
       "      <td>I recently viewed Manufactured Landscapes at t...</td>\n",
       "      <td>negative</td>\n",
       "    </tr>\n",
       "    <tr>\n",
       "      <th>1</th>\n",
       "      <td>I figured that any horror film with Orson Well...</td>\n",
       "      <td>negative</td>\n",
       "    </tr>\n",
       "    <tr>\n",
       "      <th>2</th>\n",
       "      <td>Run away from this movie. Even by B-movie stan...</td>\n",
       "      <td>negative</td>\n",
       "    </tr>\n",
       "    <tr>\n",
       "      <th>3</th>\n",
       "      <td>Oh dear. I was so disappointed that this movie...</td>\n",
       "      <td>negative</td>\n",
       "    </tr>\n",
       "    <tr>\n",
       "      <th>4</th>\n",
       "      <td>Below average blaxpoitation action / melodrama...</td>\n",
       "      <td>negative</td>\n",
       "    </tr>\n",
       "    <tr>\n",
       "      <th>...</th>\n",
       "      <td>...</td>\n",
       "      <td>...</td>\n",
       "    </tr>\n",
       "    <tr>\n",
       "      <th>95</th>\n",
       "      <td>Just as the new BSG wasn't what fans of the or...</td>\n",
       "      <td>positive</td>\n",
       "    </tr>\n",
       "    <tr>\n",
       "      <th>96</th>\n",
       "      <td>Spoiler This movie is about such a concept. Wi...</td>\n",
       "      <td>positive</td>\n",
       "    </tr>\n",
       "    <tr>\n",
       "      <th>97</th>\n",
       "      <td>I remember seeing this movie back when it was ...</td>\n",
       "      <td>positive</td>\n",
       "    </tr>\n",
       "    <tr>\n",
       "      <th>98</th>\n",
       "      <td>This is a must see for independant movie fans,...</td>\n",
       "      <td>positive</td>\n",
       "    </tr>\n",
       "    <tr>\n",
       "      <th>99</th>\n",
       "      <td>This movie is a nice, cute family oriented fil...</td>\n",
       "      <td>positive</td>\n",
       "    </tr>\n",
       "  </tbody>\n",
       "</table>\n",
       "<p>100 rows × 2 columns</p>\n",
       "</div>"
      ],
      "text/plain": [
       "                                               review sentiment\n",
       "0   I recently viewed Manufactured Landscapes at t...  negative\n",
       "1   I figured that any horror film with Orson Well...  negative\n",
       "2   Run away from this movie. Even by B-movie stan...  negative\n",
       "3   Oh dear. I was so disappointed that this movie...  negative\n",
       "4   Below average blaxpoitation action / melodrama...  negative\n",
       "..                                                ...       ...\n",
       "95  Just as the new BSG wasn't what fans of the or...  positive\n",
       "96  Spoiler This movie is about such a concept. Wi...  positive\n",
       "97  I remember seeing this movie back when it was ...  positive\n",
       "98  This is a must see for independant movie fans,...  positive\n",
       "99  This movie is a nice, cute family oriented fil...  positive\n",
       "\n",
       "[100 rows x 2 columns]"
      ]
     },
     "execution_count": 5,
     "metadata": {},
     "output_type": "execute_result"
    }
   ],
   "source": [
    "df"
   ]
  },
  {
   "cell_type": "code",
   "execution_count": 6,
   "id": "d60cb1f8-d051-4c7d-ba14-43cb60c35b2e",
   "metadata": {},
   "outputs": [
    {
     "data": {
      "text/plain": [
       "\"I figured that any horror film with Orson Welles in it would be weird. Necromancy sure was but it was a little too weird for it's own good. The film does indeed have a creepy feel as it deals with a coven of satanists/witches in a small town and a young woman's attempt to escape them. The director though seems to be deliberately trying to confuse the audience by using flashbacks and dream sequences. By the finale, there are too many unanswered questions. What's worse, as the story is so confusing, it's pretty hard to root for any of the characters. It seems odd that Welles would agree to headline this film especially since he doesn't have that much to do. Maybe someday they will put out a tape of the outtakes and bloopers from this movie. Now that would really be fun!\""
      ]
     },
     "execution_count": 6,
     "metadata": {},
     "output_type": "execute_result"
    }
   ],
   "source": [
    "# Examine a few reviews\n",
    "df.loc[1, 'review']"
   ]
  },
  {
   "cell_type": "code",
   "execution_count": 7,
   "id": "3099c624-047c-48f0-909d-8e64aab8898a",
   "metadata": {},
   "outputs": [
    {
     "data": {
      "text/plain": [
       "'let me first say, i watched this movie around midnight, and usually there only is trash around this hour, but this movie broke the record<br /><br />first of all the main character is an old non attractive creepy guy, yet he gets to f*ck all girls that come on his path for example he goes to a shop, talks to a girl and then you see them f*ck<br /><br />secondly there are loads of sex scenes, and in many of them there is no nudity at all, i would not have been surprised if one of the characters in the movie would say: fast put your clothes on so we can f*ck!<br /><br />thirdly this movie should show what a sexual addiction can do to a man or a family, this movie only shows soft bad acted erotica it makes me wonder why those actors agreed to play in such trash'"
      ]
     },
     "execution_count": 7,
     "metadata": {},
     "output_type": "execute_result"
    }
   ],
   "source": [
    "df.loc[25, 'review']"
   ]
  },
  {
   "cell_type": "markdown",
   "id": "d68e74a7-9aa7-4dad-abfb-05f14880476d",
   "metadata": {},
   "source": [
    "# 02 - Examine word frequencies in positive and negative reviews"
   ]
  },
  {
   "cell_type": "markdown",
   "id": "bb61bf19-f277-45da-b33e-ffacd7653e28",
   "metadata": {},
   "source": [
    "## 02-01-Word processing"
   ]
  },
  {
   "cell_type": "code",
   "execution_count": 8,
   "id": "f6459065-f4a4-4fd5-83ca-3ae631381c92",
   "metadata": {},
   "outputs": [
    {
     "name": "stdout",
     "output_type": "stream",
     "text": [
      "['i', 'me', 'my', 'myself', 'we', 'our', 'ours', 'ourselves', 'you', \"you're\", \"you've\", \"you'll\", \"you'd\", 'your', 'yours', 'yourself', 'yourselves', 'he', 'him', 'his', 'himself', 'she', \"she's\", 'her', 'hers', 'herself', 'it', \"it's\", 'its', 'itself', 'they', 'them', 'their', 'theirs', 'themselves', 'what', 'which', 'who', 'whom', 'this', 'that', \"that'll\", 'these', 'those', 'am', 'is', 'are', 'was', 'were', 'be', 'been', 'being', 'have', 'has', 'had', 'having', 'do', 'does', 'did', 'doing', 'a', 'an', 'the', 'and', 'but', 'if', 'or', 'because', 'as', 'until', 'while', 'of', 'at', 'by', 'for', 'with', 'about', 'against', 'between', 'into', 'through', 'during', 'before', 'after', 'above', 'below', 'to', 'from', 'up', 'down', 'in', 'out', 'on', 'off', 'over', 'under', 'again', 'further', 'then', 'once', 'here', 'there', 'when', 'where', 'why', 'how', 'all', 'any', 'both', 'each', 'few', 'more', 'most', 'other', 'some', 'such', 'no', 'nor', 'not', 'only', 'own', 'same', 'so', 'than', 'too', 'very', 's', 't', 'can', 'will', 'just', 'don', \"don't\", 'should', \"should've\", 'now', 'd', 'll', 'm', 'o', 're', 've', 'y', 'ain', 'aren', \"aren't\", 'couldn', \"couldn't\", 'didn', \"didn't\", 'doesn', \"doesn't\", 'hadn', \"hadn't\", 'hasn', \"hasn't\", 'haven', \"haven't\", 'isn', \"isn't\", 'ma', 'mightn', \"mightn't\", 'mustn', \"mustn't\", 'needn', \"needn't\", 'shan', \"shan't\", 'shouldn', \"shouldn't\", 'wasn', \"wasn't\", 'weren', \"weren't\", 'won', \"won't\", 'wouldn', \"wouldn't\"]\n"
     ]
    },
    {
     "name": "stderr",
     "output_type": "stream",
     "text": [
      "[nltk_data] Downloading package punkt_tab to\n",
      "[nltk_data]     /home/dsrivallabha/nltk_data...\n",
      "[nltk_data]   Package punkt_tab is already up-to-date!\n",
      "[nltk_data] Downloading package stopwords to\n",
      "[nltk_data]     /home/dsrivallabha/nltk_data...\n",
      "[nltk_data]   Package stopwords is already up-to-date!\n"
     ]
    }
   ],
   "source": [
    "# Download stopwords from NLTK\n",
    "nltk.download('punkt_tab')\n",
    "nltk.download('stopwords')\n",
    "print(stopwords.words('english'))\n",
    "stop_words = set(stopwords.words('english'))"
   ]
  },
  {
   "cell_type": "code",
   "execution_count": 9,
   "id": "4f4c2803-440a-4481-bc43-b652682043b8",
   "metadata": {},
   "outputs": [
    {
     "name": "stdout",
     "output_type": "stream",
     "text": [
      "word tokens ['This', 'is', 'a', 'sample', 'sentence', ',', 'showing', 'off', '<', '/', 'br', '>', 'the', 'stop', 'words', 'filtration', '.']\n",
      "filtered sentence ['sample', 'sentence', ',', 'showing', '<', '/', 'br', '>', 'stop', 'words', 'filtration', '.']\n"
     ]
    }
   ],
   "source": [
    "# Tokenizing and stop word removal\n",
    "inp_text = \"\"\"This is a sample sentence, showing off </ br> the stop words filtration.\"\"\" \n",
    "word_tokens = word_tokenize(inp_text)\n",
    "fs = [w for w in word_tokens if not w.lower() in stop_words]    \n",
    "print ('word tokens', word_tokens)\n",
    "print ('filtered sentence', fs)"
   ]
  },
  {
   "cell_type": "code",
   "execution_count": 10,
   "id": "d1a5708e-6f22-4681-a45e-12d3eed46c4f",
   "metadata": {},
   "outputs": [],
   "source": [
    "ps = PorterStemmer()\n",
    "def stopwordremoval(inp_text):\n",
    "    customlist = ['>', '<', '/', '.', ',', 'br']\n",
    "    word_tokens = word_tokenize(inp_text)\n",
    "    sw = [ps.stem(w) for w in word_tokens]\n",
    "    # by making it lower case\n",
    "    fs1 = [w for w in sw if not w.lower() in stop_words]\n",
    "    fs = [w for w in fs1 if w not in customlist]\n",
    "    return (fs)"
   ]
  },
  {
   "cell_type": "code",
   "execution_count": 11,
   "id": "3b88dabf-42d1-4840-90d8-bac19e245fab",
   "metadata": {},
   "outputs": [],
   "source": [
    "df['filtered_words'] = df['review'].apply(lambda x: stopwordremoval(x))"
   ]
  },
  {
   "cell_type": "markdown",
   "id": "365bd44f-61c6-4154-91a4-558495415817",
   "metadata": {},
   "source": [
    "## 02-02-Count Word Frequencies"
   ]
  },
  {
   "cell_type": "code",
   "execution_count": 12,
   "id": "657c82ec-30a6-428f-833b-30a64ba19430",
   "metadata": {},
   "outputs": [
    {
     "name": "stderr",
     "output_type": "stream",
     "text": [
      "/tmp/ipykernel_19487/1745280401.py:1: FutureWarning: The provided callable <built-in function sum> is currently using SeriesGroupBy.sum. In a future version of pandas, the provided callable will be used directly. To keep current behavior pass the string \"sum\" instead.\n",
      "  word_groups = df.groupby('sentiment').agg({'filtered_words': sum})\n"
     ]
    }
   ],
   "source": [
    "word_groups = df.groupby('sentiment').agg({'filtered_words': sum})"
   ]
  },
  {
   "cell_type": "code",
   "execution_count": 13,
   "id": "d81f5702-d29e-4c08-8d28-d38edb6db036",
   "metadata": {
    "scrolled": true
   },
   "outputs": [],
   "source": [
    "pos_words_list = word_groups.loc['positive', 'filtered_words']\n",
    "neg_words_list = word_groups.loc['negative', 'filtered_words']"
   ]
  },
  {
   "cell_type": "code",
   "execution_count": 14,
   "id": "c1b1c844-0123-40b9-a99e-8969914a1cbf",
   "metadata": {
    "scrolled": true
   },
   "outputs": [
    {
     "name": "stdout",
     "output_type": "stream",
     "text": [
      "{'watch': 24, 'thi': 133, 'movi': 102, 'everi': 6, 'time': 29, 'wa': 101, 'tv': 7, '(': 92, 'lot': 10, ')': 91, 'becaus': 18, 'humor': 7, 'may': 11, 'critic': 9, 'star': 8, 'love': 29, '--': 7, 'fun': 7, 'comedi': 7, 'pleas': 6, 'teen': 9, 'actor': 11, 'probabl': 10, 'much': 12, 'like': 39, 'cast': 12, \"'s\": 135, 'show': 14, 'famili': 8, 'best': 19, 'though': 8, 'includ': 8, 'mani': 13, 'think': 14, 'recommend': 6, 'saw': 10, 'veri': 24, 'funni': 14, 'especi': 6, 'nice': 16, 'look': 25, 'film': 82, 'stori': 18, 'effect': 9, 'charact': 16, 'realli': 27, 'shine': 8, 'set': 9, 'anim': 7, 'world': 8, 'use': 8, 'base': 7, 'help': 9, 'one': 48, 'enough': 7, 'better': 9, 'doe': 26, 'even': 21, 'plot': 7, \"'\": 23, 'great': 27, 'act': 12, 'first': 13, '!': 50, 'charm': 7, 'long': 6, 'befor': 16, ';': 23, 'ever': 6, 'sinc': 12, 'well': 21, 'peopl': 9, 'know': 15, 'good': 16, 'bad': 8, 'hi': 59, 'premis': 6, 'noth': 9, 'new': 9, 'make': 22, 'main': 6, 'way': 11, 'made': 16, 'least': 8, '``': 85, \"''\": 92, 'also': 26, 'add': 6, 'life': 16, '*': 21, \"n't\": 46, 'would': 26, \"'ll\": 7, 'moment': 7, 'young': 7, 'yet': 8, 'hand': 7, 'believ': 7, 'although': 9, 'work': 23, 'direct': 10, 'power': 9, 'screen': 11, 'beauti': 10, 'music': 7, \"'m\": 6, 'come': 16, 'branagh': 9, 'version': 9, 'play': 27, 'viewer': 7, 'without': 11, 'speak': 9, 'littl': 17, 'keep': 6, 'product': 7, \"'re\": 7, 'rather': 12, 'tri': 7, 'seem': 9, 'ha': 48, 'alway': 9, 'interest': 6, 'big': 10, 'portray': 6, 'let': 8, 'never': 9, 'seen': 15, 'perform': 13, 'need': 12, \"'ve\": 7, 'line': 6, 'ani': 14, 'man': 6, 'feel': 11, 'almost': 7, 'must': 6, 'take': 9, 'back': 11, 'onli': 19, 'year': 12, 'super': 7, 'thing': 17, 'jack': 15, 'scene': 28, 'appear': 8, 'job': 9, 'real': 7, 'go': 15, 'bit': 12, '?': 20, 'say': 10, 'could': 12, ':': 15, 'guy': 6, 'special': 6, 'two': 11, 'event': 7, 'happen': 6, 'get': 20, 'girl': 7, 'becom': 11, 'fortun': 7, 'tell': 6, 'fact': 8, 'part': 12, 'past': 9, 'fan': 13, 'leav': 7, '-': 32, 'book': 9, 'hope': 6, 'enjoy': 15, 'day': 9, 'right': 7, 'felt': 7, 'want': 10, 'releas': 6, 'hercul': 10, 'perfect': 6, 'wonder': 8, 'still': 8, 'australia': 12, 'polit': 6, 'histori': 7, 'point': 9, 'dismiss': 7, 'govern': 10, 'governor-gener': 13, 'australian': 11, 'law': 10, 'section': 6, 'howev': 8, 'hold': 8, '...': 13, 'write': 7, 'pretti': 8, 'final': 8, 'differ': 9, 'see': 28, 'end': 19, 'sever': 7, 'cute': 6, 'left': 6, 'live': 6, 'dure': 7, 'horror': 7, 'find': 16, 'matt': 7, 'evil': 7, 'hard': 7, 'friend': 6, 'total': 6, 'murder': 8, 'deliv': 6, 'start': 6, 'kubrick': 10, 'wendi': 9, 'danni': 18, 'hotel': 15, 'toni': 7, 'cold': 6, 'woman': 6, 'blood': 6, 'wilson': 7, 'superhero': 10, 'g-girl': 9, 'thurman': 6, 'jenni': 8}\n"
     ]
    }
   ],
   "source": [
    "pwc = Counter(pos_words_list)\n",
    "pos_word_count = {k: v for k, v in pwc.items() if v>5}\n",
    "print (pos_word_count)"
   ]
  },
  {
   "cell_type": "code",
   "execution_count": 15,
   "id": "e0e35003-5459-4f01-a58c-31c7e26b9357",
   "metadata": {},
   "outputs": [
    {
     "name": "stdout",
     "output_type": "stream",
     "text": [
      "no of unique words in positive review is 229\n"
     ]
    }
   ],
   "source": [
    "print ('no of unique words in positive review is', len(pos_word_count.keys()))"
   ]
  },
  {
   "cell_type": "code",
   "execution_count": 16,
   "id": "e7beb794-bdfa-4689-91af-e283368c9f54",
   "metadata": {
    "scrolled": true
   },
   "outputs": [
    {
     "name": "stdout",
     "output_type": "stream",
     "text": [
      "{'film': 71, 'wa': 88, 'movi': 122, 'becaus': 11, \"'m\": 18, 'fan': 8, \"'s\": 135, 'work': 18, 'believ': 9, 'doe': 18, 'good': 30, 'get': 29, 'across': 12, 'could': 18, \"n't\": 57, 'feel': 17, 'made': 15, 'complet': 7, 'book': 13, 'one': 57, 'reason': 6, 'thi': 151, 'use': 14, 'still': 8, 'like': 49, '(': 63, ')': 63, 'hi': 33, 'might': 7, 'better': 15, 'ani': 21, 'horror': 11, 'well': 17, 'would': 35, 'sure': 10, 'littl': 9, 'young': 6, 'director': 14, 'seem': 17, 'tri': 16, 'mani': 10, 'stori': 27, 'pretti': 9, 'charact': 19, 'much': 23, 'put': 11, 'realli': 16, 'fun': 7, '!': 36, 'run': 7, 'even': 29, 'b-movi': 7, 'also': 12, 'peopl': 16, 'worth': 6, 'lot': 8, 'see': 26, 'kid': 7, 'make': 26, 'whi': 10, 'ha': 28, 'person': 7, 'usual': 8, 'thing': 15, 'ridicul': 7, 'act': 22, 'direct': 11, 'present': 6, 'noth': 11, 'interest': 10, 'version': 6, 'least': 12, 'veri': 22, 'watch': 18, 'know': 13, 'great': 13, 'come': 15, 'ca': 8, 'happen': 6, 'big': 6, ':': 20, 'averag': 6, 'love': 20, 'play': 9, 'eye': 15, 'origin': 11, '``': 55, \"''\": 48, '-': 28, 'script': 9, 'scene': 19, 'cast': 11, 'role': 6, 'may': 7, 'old': 9, 'someth': 8, '?': 30, '--': 14, 'anyon': 6, 'els': 6, 'onli': 17, 'horribl': 7, 'bore': 10, 'two': 11, 'shot': 11, 'set': 7, 'minut': 11, 'worst': 13, 'go': 20, 'think': 16, 'stupid': 6, 'call': 6, 'seen': 14, 'read': 11, 'famili': 6, 'whole': 9, 'take': 8, 'mention': 7, 'want': 13, 'back': 11, 'phone': 6, '*': 8, 'bad': 23, 'look': 23, 'wast': 12, 'year': 8, 'guy': 7, 'plot': 14, 'real': 8, 'perform': 8, 'except': 6, 'never': 9, 'time': 40, 'got': 8, 'screen': 8, \"'\": 15, 'first': 14, 'total': 6, 'wonder': 7, 'approach': 7, 'actor': 19, 'high': 6, 'olivi': 7, 'kind': 8, 'everi': 6, 'instead': 6, 'london': 6, 'line': 9, 'must': 6, 'give': 10, '...': 16, 'pain': 6, ';': 6, 'done': 7, 'lack': 6, 'ever': 11, 'star': 9, 'way': 6, 'say': 15, 'anoth': 6, 'end': 9, '..': 14, 'dull': 6, 'crazi': 6, 'girl': 11, 'becom': 8, 'start': 7, 'need': 7, 'releas': 7, 'right': 7, 'let': 10, 'convinc': 6, 'annoy': 8, 'point': 6, 'monster': 10, 'budget': 6, 'around': 6, 'yet': 6, '&': 44, 'croc': 6, 'poor': 6, 'music': 9, 'song': 6, 'five': 11, 'almost': 6, 'hous': 10, 'danc': 18, 'fred': 18, 'joan': 8, 'georg': 6, 'number': 18, '\\uf0b7': 7}\n"
     ]
    }
   ],
   "source": [
    "nwc = Counter(neg_words_list)\n",
    "neg_word_count = {k: v for k, v in nwc.items() if v>5}\n",
    "print (neg_word_count)"
   ]
  },
  {
   "cell_type": "code",
   "execution_count": 17,
   "id": "337ced20-64e5-491f-860a-79432eda9bb6",
   "metadata": {},
   "outputs": [
    {
     "name": "stdout",
     "output_type": "stream",
     "text": [
      "no of unique words in negative review is 192\n"
     ]
    }
   ],
   "source": [
    "print ('no of unique words in negative review is', len(neg_word_count.keys()))"
   ]
  },
  {
   "cell_type": "markdown",
   "id": "9a7d8828-7169-4d5b-96ed-0b7de4c2c67a",
   "metadata": {},
   "source": [
    "## 02-03- Unique Words"
   ]
  },
  {
   "cell_type": "code",
   "execution_count": 18,
   "id": "fbdba1ae-7471-436c-a397-d5e118b6f90f",
   "metadata": {
    "scrolled": true
   },
   "outputs": [
    {
     "name": "stdout",
     "output_type": "stream",
     "text": [
      "['tv', 'humor', 'critic', 'comedi', 'pleas', 'teen', 'probabl', 'show', 'best', 'though', 'includ', 'recommend', 'saw', 'funni', 'especi', 'nice', 'effect', 'shine', 'anim', 'world', 'base', 'help', 'enough', 'charm', 'long', 'befor', 'sinc', 'premis', 'new', 'main', 'add', 'life', \"'ll\", 'moment', 'hand', 'although', 'power', 'beauti', 'branagh', 'viewer', 'without', 'speak', 'keep', 'product', \"'re\", 'rather', 'alway', 'portray', \"'ve\", 'man', 'super', 'jack', 'appear', 'job', 'bit', 'special', 'event', 'fortun', 'tell', 'fact', 'part', 'past', 'leav', 'hope', 'enjoy', 'day', 'felt', 'hercul', 'perfect', 'australia', 'polit', 'histori', 'dismiss', 'govern', 'governor-gener', 'australian', 'law', 'section', 'howev', 'hold', 'write', 'final', 'differ', 'sever', 'cute', 'left', 'live', 'dure', 'find', 'matt', 'evil', 'hard', 'friend', 'murder', 'deliv', 'kubrick', 'wendi', 'danni', 'hotel', 'toni', 'cold', 'woman', 'blood', 'wilson', 'superhero', 'g-girl', 'thurman', 'jenni']\n"
     ]
    }
   ],
   "source": [
    "# Positive words, not in negative reviews\n",
    "pk = [k for k in list(pos_word_count.keys()) if not k in list(neg_word_count.keys())]\n",
    "print (pk)"
   ]
  },
  {
   "cell_type": "code",
   "execution_count": 19,
   "id": "3e3d959c-9ea1-4837-9ad7-438faeff9b2e",
   "metadata": {},
   "outputs": [
    {
     "name": "stdout",
     "output_type": "stream",
     "text": [
      "['across', 'complet', 'reason', 'might', 'sure', 'director', 'put', 'run', 'b-movi', 'worth', 'kid', 'whi', 'person', 'usual', 'ridicul', 'present', 'ca', 'averag', 'eye', 'origin', 'script', 'role', 'old', 'someth', 'anyon', 'els', 'horribl', 'bore', 'shot', 'minut', 'worst', 'stupid', 'call', 'read', 'whole', 'mention', 'phone', 'wast', 'except', 'got', 'approach', 'high', 'olivi', 'kind', 'instead', 'london', 'give', 'pain', 'done', 'lack', 'anoth', '..', 'dull', 'crazi', 'convinc', 'annoy', 'monster', 'budget', 'around', '&', 'croc', 'poor', 'song', 'five', 'hous', 'danc', 'fred', 'joan', 'georg', 'number', '\\uf0b7']\n"
     ]
    }
   ],
   "source": [
    "# Negative words, not in positive reviews\n",
    "nk = [k for k in list(neg_word_count.keys()) if not k in list(pos_word_count.keys())]\n",
    "print (nk)"
   ]
  },
  {
   "cell_type": "code",
   "execution_count": null,
   "id": "b5545808-eaf4-4593-97d5-601f634ac496",
   "metadata": {},
   "outputs": [],
   "source": []
  }
 ],
 "metadata": {
  "kernelspec": {
   "display_name": "NLP",
   "language": "python",
   "name": "nlp"
  },
  "language_info": {
   "codemirror_mode": {
    "name": "ipython",
    "version": 3
   },
   "file_extension": ".py",
   "mimetype": "text/x-python",
   "name": "python",
   "nbconvert_exporter": "python",
   "pygments_lexer": "ipython3",
   "version": "3.12.3"
  }
 },
 "nbformat": 4,
 "nbformat_minor": 5
}
