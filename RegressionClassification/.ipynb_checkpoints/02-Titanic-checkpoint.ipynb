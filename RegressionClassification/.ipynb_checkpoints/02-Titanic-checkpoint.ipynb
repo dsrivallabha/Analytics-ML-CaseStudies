{
 "cells": [
  {
   "cell_type": "markdown",
   "metadata": {},
   "source": [
    "## Titanic Original DataSet "
   ]
  },
  {
   "cell_type": "markdown",
   "metadata": {},
   "source": [
    "Dataset downloaded from \n",
    "biostat.mc.vanderbilt.edu/wiki/pub/Main/DataSets/titanic3.xls"
   ]
  },
  {
   "cell_type": "code",
   "execution_count": 1,
   "metadata": {},
   "outputs": [],
   "source": [
    "import pandas as pd\n",
    "import matplotlib.pyplot as plt\n",
    "import seaborn as sns"
   ]
  },
  {
   "cell_type": "code",
   "execution_count": 2,
   "metadata": {},
   "outputs": [
    {
     "name": "stdout",
     "output_type": "stream",
     "text": [
      "1309\n",
      "Index(['pclass', 'survived', 'name', 'sex', 'age', 'sibsp', 'parch', 'ticket',\n",
      "       'fare', 'cabin', 'embarked', 'boat', 'body', 'home.dest'],\n",
      "      dtype='object')\n"
     ]
    }
   ],
   "source": [
    "titanic = pd.read_csv('./Data/OriginalTitanicDataSet.csv')\n",
    "print (len(titanic))\n",
    "print (titanic.columns)"
   ]
  },
  {
   "cell_type": "code",
   "execution_count": null,
   "metadata": {},
   "outputs": [],
   "source": [
    "titanic.describe()"
   ]
  },
  {
   "cell_type": "code",
   "execution_count": null,
   "metadata": {},
   "outputs": [],
   "source": [
    "sum(titanic.age.isnull())"
   ]
  },
  {
   "cell_type": "code",
   "execution_count": null,
   "metadata": {},
   "outputs": [],
   "source": [
    "t2 = titanic[~titanic['age'].isna()]\n",
    "t3 = t2[~t2.fare.isna()]"
   ]
  },
  {
   "cell_type": "code",
   "execution_count": null,
   "metadata": {},
   "outputs": [],
   "source": [
    "print (len(t3))"
   ]
  },
  {
   "cell_type": "code",
   "execution_count": null,
   "metadata": {},
   "outputs": [],
   "source": [
    "t4 = titanic.dropna(axis=0)"
   ]
  },
  {
   "cell_type": "code",
   "execution_count": null,
   "metadata": {},
   "outputs": [],
   "source": [
    "print (len(t4))"
   ]
  },
  {
   "cell_type": "code",
   "execution_count": null,
   "metadata": {},
   "outputs": [],
   "source": [
    "a = t3.groupby(['survived'])"
   ]
  },
  {
   "cell_type": "code",
   "execution_count": null,
   "metadata": {},
   "outputs": [],
   "source": [
    "#titanic.sns.boxplot(column='age', by=['survived'])\n",
    "\n",
    "sns.boxplot(x='survived', y='age', data=titanic)\n",
    "\n",
    "sns.boxplot(x='survived', y='pclass', data=titanic)\n",
    "\n",
    "sns.boxplot(x='pclass', y='survived', data=titanic)\n",
    "\n",
    "sns.barplot(x='pclass', y='survived', data=titanic)"
   ]
  },
  {
   "cell_type": "markdown",
   "metadata": {},
   "source": [
    "## Exploratory analysis"
   ]
  },
  {
   "cell_type": "markdown",
   "metadata": {},
   "source": [
    "### Check the number of passengers & demography"
   ]
  },
  {
   "cell_type": "code",
   "execution_count": null,
   "metadata": {},
   "outputs": [],
   "source": [
    "print (len(t3))"
   ]
  },
  {
   "cell_type": "code",
   "execution_count": null,
   "metadata": {},
   "outputs": [],
   "source": [
    "print (t3.groupby(['sex'])['name'].count())\n",
    "print (len(t3))\n",
    "t3.groupby(['sex'])['name'].count().plot(kind='pie', autopct='%1.0f%%')\n",
    "plt.ylabel('gender')\n",
    "plt.axis('equal')\n",
    "plt.show()"
   ]
  },
  {
   "cell_type": "code",
   "execution_count": null,
   "metadata": {},
   "outputs": [],
   "source": [
    "print (t3.groupby(['survived'])['name'].count())\n",
    "t3.groupby(['survived'])['name'].count().plot(kind='pie', autopct='%1.0f%%')\n",
    "plt.ylabel('survived')\n",
    "plt.axis('equal')\n",
    "plt.show()"
   ]
  },
  {
   "cell_type": "code",
   "execution_count": null,
   "metadata": {},
   "outputs": [],
   "source": [
    "print (t3.groupby(['pclass'])['name'].count())\n",
    "t3.groupby(['pclass'])['name'].count().plot(kind='pie', autopct='%1.0f%%')\n",
    "plt.ylabel('pclass')\n",
    "plt.axis('equal')\n",
    "plt.show()"
   ]
  },
  {
   "cell_type": "code",
   "execution_count": null,
   "metadata": {},
   "outputs": [],
   "source": [
    "abins = pd.IntervalIndex.from_tuples([(0, 20), (20, 40), (40, 60), (60, 80), (80,100)])\n",
    "t3['agebins'] = pd.cut(t3['age'], abins)"
   ]
  },
  {
   "cell_type": "code",
   "execution_count": null,
   "metadata": {},
   "outputs": [],
   "source": [
    "print (t3.groupby(['agebins'])['name'].count())\n",
    "t3.groupby(['agebins'])['name'].count().plot(kind='pie', autopct='%1.0f%%')\n",
    "plt.ylabel('age groups')\n",
    "plt.axis('equal')\n",
    "plt.show()"
   ]
  },
  {
   "cell_type": "code",
   "execution_count": null,
   "metadata": {},
   "outputs": [],
   "source": [
    "print (t3.groupby(['sibsp'])['name'].count())\n",
    "t3.groupby(['sibsp'])['name'].count().plot(kind='bar')\n",
    "plt.show()"
   ]
  },
  {
   "cell_type": "code",
   "execution_count": null,
   "metadata": {},
   "outputs": [],
   "source": [
    "print (t3.groupby(['parch'])['name'].count())\n",
    "t3.groupby(['parch'])['name'].count().plot(kind='bar')\n",
    "plt.show()"
   ]
  },
  {
   "cell_type": "markdown",
   "metadata": {},
   "source": [
    "## Multivariate analysis"
   ]
  },
  {
   "cell_type": "code",
   "execution_count": null,
   "metadata": {},
   "outputs": [],
   "source": [
    "t3.fare.describe()"
   ]
  },
  {
   "cell_type": "code",
   "execution_count": null,
   "metadata": {},
   "outputs": [],
   "source": [
    "t3['relations'] = 0\n",
    "t3.loc[t3['parch'] > 0, 'relations'] = 1\n",
    "t3.loc[t3['sibsp'] > 0, 'relations'] = 1"
   ]
  },
  {
   "cell_type": "code",
   "execution_count": null,
   "metadata": {},
   "outputs": [],
   "source": [
    "t3.relations.sum()"
   ]
  },
  {
   "cell_type": "code",
   "execution_count": null,
   "metadata": {},
   "outputs": [],
   "source": [
    "print (t3.groupby(['relations', 'survived'])['name'].count())"
   ]
  },
  {
   "cell_type": "code",
   "execution_count": null,
   "metadata": {},
   "outputs": [],
   "source": [
    "t31 = t3.groupby(['relations', 'survived'])['name'].count().unstack().plot(kind='bar', stacked=True)\n",
    "plt.xlabel('relations')"
   ]
  },
  {
   "cell_type": "code",
   "execution_count": null,
   "metadata": {},
   "outputs": [],
   "source": [
    "t3.groupby(['pclass', 'survived'])['name'].count().unstack().plot(kind='bar', stacked=True)\n",
    "plt.show()"
   ]
  },
  {
   "cell_type": "code",
   "execution_count": null,
   "metadata": {},
   "outputs": [],
   "source": [
    "t3.groupby(['agebins', 'survived'])['name'].count().unstack().plot(kind='bar', stacked=True)\n",
    "plt.show()"
   ]
  },
  {
   "cell_type": "code",
   "execution_count": null,
   "metadata": {},
   "outputs": [],
   "source": [
    "farebins = pd.IntervalIndex.from_tuples([(0, 10), (10, 30), (30, 100), (100, 800)])\n",
    "t3['farebins'] = pd.cut(t3['fare'], farebins)"
   ]
  },
  {
   "cell_type": "code",
   "execution_count": null,
   "metadata": {},
   "outputs": [],
   "source": [
    "t3.groupby(['farebins', 'survived'])['name'].count().unstack().plot(kind='bar', stacked=True)\n",
    "plt.show()"
   ]
  },
  {
   "cell_type": "markdown",
   "metadata": {},
   "source": [
    "## Building a simple model"
   ]
  },
  {
   "cell_type": "code",
   "execution_count": null,
   "metadata": {},
   "outputs": [],
   "source": [
    "t3.to_csv('ModelingDataTitanic.csv')"
   ]
  },
  {
   "cell_type": "code",
   "execution_count": null,
   "metadata": {},
   "outputs": [],
   "source": [
    "from sklearn.model_selection import train_test_split\n",
    "from sklearn.svm import SVC"
   ]
  },
  {
   "cell_type": "code",
   "execution_count": null,
   "metadata": {},
   "outputs": [],
   "source": [
    "#t3t = t3.drop(['survived', 'agebins', 'farebins', 'name', ''], axis=1)\n",
    "t3t = t3[['pclass', 'sibsp', 'fare', 'relations', 'sex', 'parch', 'agebins', 'farebins']]"
   ]
  },
  {
   "cell_type": "code",
   "execution_count": null,
   "metadata": {},
   "outputs": [],
   "source": [
    "t3t.head()"
   ]
  },
  {
   "cell_type": "code",
   "execution_count": null,
   "metadata": {},
   "outputs": [],
   "source": [
    "def ttsplit(features):\n",
    "    feats = t3t[features]\n",
    "    idvs = pd.get_dummies(feats)\n",
    "    X_train, X_test, y_train, y_test = train_test_split(idvs, t3['survived'], test_size=0.33, random_state=42)\n",
    "    return (X_train, X_test, y_train, y_test)\n",
    "    \n",
    "\n",
    "def svc_model(features):\n",
    "    X_train, X_test, y_train, y_test = ttsplit(features)\n",
    "    clf = SVC(gamma='auto')\n",
    "    clf.fit(X_train, y_train)\n",
    "    y_pred = clf.predict(X_test)\n",
    "    score = accuracy_score(y_test, y_pred)\n",
    "    return (score)  \n",
    "\n"
   ]
  },
  {
   "cell_type": "code",
   "execution_count": null,
   "metadata": {},
   "outputs": [],
   "source": [
    "f = ['pclass']\n",
    "print (svc_model(f))"
   ]
  },
  {
   "cell_type": "code",
   "execution_count": null,
   "metadata": {},
   "outputs": [],
   "source": [
    "f = ['pclass', 'sex']\n",
    "print (svc_model(f))"
   ]
  },
  {
   "cell_type": "code",
   "execution_count": null,
   "metadata": {},
   "outputs": [],
   "source": [
    "f = ['pclass', 'sex', 'sibsp']\n",
    "print (svc_model(f))"
   ]
  },
  {
   "cell_type": "code",
   "execution_count": null,
   "metadata": {},
   "outputs": [],
   "source": [
    "f = ['pclass', 'sex', 'sibsp', 'parch']\n",
    "print (svc_model(f))"
   ]
  },
  {
   "cell_type": "code",
   "execution_count": null,
   "metadata": {},
   "outputs": [],
   "source": [
    "f = ['pclass', 'sex', 'sibsp', 'parch', 'relations']\n",
    "print (svc_model(f))"
   ]
  },
  {
   "cell_type": "code",
   "execution_count": null,
   "metadata": {},
   "outputs": [],
   "source": [
    "f = ['pclass', 'sex', 'sibsp', 'parch', 'relations', 'agebins']\n",
    "print (svc_model(f))"
   ]
  },
  {
   "cell_type": "code",
   "execution_count": null,
   "metadata": {},
   "outputs": [],
   "source": [
    "f = ['pclass', 'sex', 'sibsp', 'parch', 'relations', 'agebins', 'farebins']\n",
    "print (svc_model(f))"
   ]
  },
  {
   "cell_type": "markdown",
   "metadata": {},
   "source": [
    "## Training another model  - Nearest Neighbours"
   ]
  },
  {
   "cell_type": "code",
   "execution_count": null,
   "metadata": {},
   "outputs": [],
   "source": [
    "from sklearn.neighbors import KNeighborsClassifier\n",
    "def knnmodel(features):\n",
    "    X_train, X_test, y_train, y_test = ttsplit(features)\n",
    "    neigh = KNeighborsClassifier(n_neighbors=15)    \n",
    "    neigh.fit(X_train, y_train)\n",
    "    y_pred = neigh.predict(X_test)\n",
    "    score = accuracy_score(y_test, y_pred)\n",
    "    return (score)  \n"
   ]
  },
  {
   "cell_type": "code",
   "execution_count": null,
   "metadata": {},
   "outputs": [],
   "source": [
    "f = ['pclass', 'sex', 'sibsp', 'parch', 'relations', 'agebins', 'farebins']\n",
    "print (knnmodel(f))"
   ]
  },
  {
   "cell_type": "markdown",
   "metadata": {},
   "source": [
    "## Training another model - Random forest"
   ]
  },
  {
   "cell_type": "code",
   "execution_count": null,
   "metadata": {},
   "outputs": [],
   "source": [
    "from sklearn.model_selection import cross_val_score\n",
    "from sklearn.tree import DecisionTreeClassifier\n",
    "\n",
    "def treemodel(features):\n",
    "    X_train, X_test, y_train, y_test = ttsplit(features)\n",
    "    clf = DecisionTreeClassifier(random_state=0)\n",
    "    print (cross_val_score(clf, X_train, y_train, cv=10))\n",
    "    clf.fit(X_train, y_train)\n",
    "    y_pred = clf.predict(X_test)\n",
    "    score = accuracy_score(y_test, y_pred)\n",
    "    return (score)  \n",
    "    "
   ]
  },
  {
   "cell_type": "code",
   "execution_count": null,
   "metadata": {},
   "outputs": [],
   "source": [
    "treemodel(f)"
   ]
  },
  {
   "cell_type": "code",
   "execution_count": null,
   "metadata": {},
   "outputs": [],
   "source": []
  },
  {
   "cell_type": "code",
   "execution_count": null,
   "metadata": {},
   "outputs": [],
   "source": []
  }
 ],
 "metadata": {
  "kernelspec": {
   "display_name": "Python 3",
   "language": "python",
   "name": "python3"
  },
  "language_info": {
   "codemirror_mode": {
    "name": "ipython",
    "version": 3
   },
   "file_extension": ".py",
   "mimetype": "text/x-python",
   "name": "python",
   "nbconvert_exporter": "python",
   "pygments_lexer": "ipython3",
   "version": "3.6.8"
  }
 },
 "nbformat": 4,
 "nbformat_minor": 2
}
