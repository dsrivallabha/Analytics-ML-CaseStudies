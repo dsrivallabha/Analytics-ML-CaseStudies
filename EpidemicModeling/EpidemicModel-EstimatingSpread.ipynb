{
 "cells": [
  {
   "cell_type": "markdown",
   "metadata": {},
   "source": [
    "# Kermack - McKendrick model of Epidemics"
   ]
  },
  {
   "cell_type": "code",
   "execution_count": 1,
   "metadata": {},
   "outputs": [],
   "source": [
    "import numpy as np\n",
    "import pandas as pd\n",
    "from scipy.integrate import odeint\n",
    "import matplotlib.pyplot as plt\n",
    "import matplotlib\n",
    "\n",
    "# font = {'family' : 'normal',\n",
    "#         'weight' : 'bold',\n",
    "#         'size'   : 22}\n",
    "\n",
    "# matplotlib.rc('font', **font)"
   ]
  },
  {
   "cell_type": "markdown",
   "metadata": {},
   "source": [
    "## SEIR modeling\n",
    "Ref: https://towardsdatascience.com/social-distancing-to-slow-the-coronavirus-768292f04296"
   ]
  },
  {
   "cell_type": "code",
   "execution_count": 2,
   "metadata": {},
   "outputs": [],
   "source": [
    "#Extension to SEIR model\n",
    "# The SEIR model differential equations.\n",
    "def derivseir(y, t, N, beta, alpha, gamma, quarantine_fraction=0):\n",
    "    '''\n",
    "    Function to compute the rate of change for various compartments\n",
    "    \n",
    "    This model has a quarantine fraction - of all the infected, a certain fraction are quarantined, while \n",
    "    others escape quarantine and infect others\n",
    "    \n",
    "    # If I are infected, [(1-quarantine_fraction) X I] will be roaming free, and infect more people\n",
    "    # If quarantine_fraction == 1, all infected are quarantined, and disease will not spread to others\n",
    "    '''\n",
    "    \n",
    "    S, E, I, R = y\n",
    "    \n",
    "    # fraction of all infected, who are not quarantined, infecting others    \n",
    "    newI = (1.0 -quarantine_fraction) * I\n",
    "    \n",
    "    # new rate of change for susceptible people - based on those that escape quarantine\n",
    "    dSdt = -beta * S * newI / N\n",
    "    \n",
    "    #new rate of change for exposed people\n",
    "    dEdt = beta * S * newI / N - alpha * E\n",
    "    \n",
    "    #this will not change, as those already exposed will start showing symptoms\n",
    "    dIdt = alpha * E - gamma * I\n",
    "    \n",
    "    #this will not change, as all those infected will recover or reach an outcome\n",
    "    dRdt = gamma * I\n",
    "    \n",
    "    return dSdt, dEdt, dIdt, dRdt"
   ]
  },
  {
   "cell_type": "code",
   "execution_count": 3,
   "metadata": {},
   "outputs": [],
   "source": [
    "def predictcases(population, infected, incubation_period, infectious_period, beta, \\\n",
    "                 EbyIratio=2.4, days=30,  quarantine_fraction=0):\n",
    "    '''\n",
    "    function to predict the number of cases, based on population, initial infected and parameters\n",
    "    Input parameters\n",
    "    population: population of city/state/country\n",
    "    infected: no of infected cases at start\n",
    "    incubation_period: time to show symptoms (in days)\n",
    "    infectious_period: time duration for which a patient can infect others (in days)\n",
    "    beta: sent in as a value. this is being estimated by the meta function that calls this function\n",
    "    EbyIratio: exposed to infected ratio\n",
    "    quarantine_fraction: fraction of infected that are quarantined (0 to 1)\n",
    "    '''\n",
    "    ###########################################################################\n",
    "    ## OLD VALUES - NOW BEING PASSED FROM OUTSIDE THIS FUNCTION\n",
    "    ## Parameters from literature\n",
    "    \n",
    "    ### Incubation period \n",
    "    ### (https://annals.org/aim/fullarticle/2762808/incubation-period-coronavirus-disease-2019-covid-19-from-publicly-reported)\n",
    "    #incubation_period = 5 # days\n",
    "    \n",
    "    ## Infectious period\n",
    "    ## (https://www.who.int/bulletin/online_first/20-255695.pdf)\n",
    "    #infectious_period  = 2.3 #days\n",
    "    \n",
    "    ## Exposed to infected ratio\n",
    "    ## (https://www.who.int/bulletin/online_first/20-255695.pdf)\n",
    "    #ebyiratio = 2.4        \n",
    "    ###########################################################################\n",
    "    alpha = 1/incubation_period\n",
    "    #print (alpha)\n",
    "    \n",
    "    gamma = 1/infectious_period\n",
    "    #print (gamma)\n",
    "\n",
    "    \n",
    "    # Total population, N.\n",
    "    \n",
    "    # Initial number of infected, exposed and recovered individuals, I0 and R0.\n",
    "    I0 = infected\n",
    "    E0 = EbyIratio  * I0\n",
    "    R0 = 0\n",
    "    N = population\n",
    "    \n",
    "    # Everyone else, S0, is susceptible to infection initially.\n",
    "    S0 = N - E0 - I0 - R0\n",
    "    \n",
    "    # A grid of time points (in days)\n",
    "    t = np.linspace(0, days, days+1)\n",
    "    #print (t)\n",
    "\n",
    "    # Initial conditions vector\n",
    "    y0 = S0, E0, I0, R0\n",
    "    # Integrate the SIR equations over the time grid, t.\n",
    "    ret = odeint(derivseir, y0, t, args=(N, beta, alpha, gamma, quarantine_fraction))\n",
    "    S, E, I, R = ret.T\n",
    "    \n",
    "    return (t, S, E, I, R)"
   ]
  },
  {
   "cell_type": "code",
   "execution_count": 4,
   "metadata": {},
   "outputs": [],
   "source": [
    "def esterror(actual_cases, t, S, E, I, R):\n",
    "    '''\n",
    "    function to estimate the RMS error between true and predicted values\n",
    "    actual_cases: array of daily cases\n",
    "    t: time\n",
    "    S: daily susceptible cases\n",
    "    E: daily exposed cases\n",
    "    I: daily infected cases\n",
    "    R: daily recovered cases\n",
    "    '''\n",
    "    \n",
    "    #number of observations, to compare for error\n",
    "    truedays = len(actual_cases)\n",
    "    predictdays = len(I)\n",
    "    mindays = min(truedays, predictdays)\n",
    "    #print (truedays, predictdays, mindays)\n",
    "    \n",
    "    # true cases\n",
    "    y_true = np.array(actual_cases[:mindays]) \n",
    "    \n",
    "    # predicted cases - both infected as well as recovered\n",
    "    y_pred = np.array(I[:mindays] + R[:mindays])\n",
    "    \n",
    "    #print (len(y_true), len(y_pred))\n",
    "    \n",
    "    diff = (y_true - y_pred)/(y_true)\n",
    "    #print (len(diff))\n",
    "    \n",
    "    error = np.sqrt(np.mean(diff**2))\n",
    "    #print (error)\n",
    "    \n",
    "    return (error)"
   ]
  },
  {
   "cell_type": "code",
   "execution_count": 5,
   "metadata": {},
   "outputs": [],
   "source": [
    "## function to estimate best beta and return the best value\n",
    "def estbeta(df, pop, infected, days, betamin, betamax, incubation_period=5, infectious_period=2.3, \\\n",
    "            EbyIratio=2.4,  nint=21, quarantine_fraction=0):\n",
    "    '''\n",
    "    function to estimate the best beta for a case\n",
    "    \n",
    "    variables to predict cases function\n",
    "    predictcases(population, infected, incubation_period, infectious_period, beta, EbyIratio=2.4, days=30):\n",
    "    '''\n",
    "\n",
    "    maxerror = 1e5\n",
    "    finalbeta = 0\n",
    "    \n",
    "    betalist = list(np.linspace(betamin, betamax, nint))\n",
    "    print (betalist)\n",
    "\n",
    "    for betal in betalist:\n",
    "        \n",
    "        t,S,E,I, R = predictcases(population= pop, infected = infected, days=days, \\\n",
    "                                  incubation_period=incubation_period, \\\n",
    "                                  infectious_period = infectious_period, beta = betal, EbyIratio=EbyIratio, \n",
    "                                  quarantine_fraction = quarantine_fraction)\n",
    "        \n",
    "        actual_cases = np.array(df['Cases'])\n",
    "        \n",
    "        error = esterror(actual_cases, t, S, E, I, R)\n",
    "        \n",
    "        #print (error)\n",
    "        if (error < maxerror): \n",
    "            finalbeta = betal\n",
    "            maxerror = error\n",
    "    print (finalbeta)\n",
    "    \n",
    "    return (finalbeta)"
   ]
  },
  {
   "cell_type": "markdown",
   "metadata": {},
   "source": [
    "## Download data from URL and process"
   ]
  },
  {
   "cell_type": "code",
   "execution_count": 6,
   "metadata": {},
   "outputs": [],
   "source": [
    "def rettable(url):\n",
    "    tbls = pd.read_html(url)\n",
    "    lst = []\n",
    "    for t in tbls:\n",
    "        return (t)\n",
    "    return ()\n",
    "\n",
    "def cleantbl(df, country):\n",
    "    new = df[df['Country/Region'] == country]\n",
    "    new = new.groupby('Country/Region').agg('sum')\n",
    "    new = new.reset_index()\n",
    "    newT = new.T\n",
    "    newTH = newT[5:]\n",
    "    newTH = newTH.reset_index()\n",
    "    newTH.columns = ['Date', 'Cases']\n",
    "    newTH['Date'] = pd.to_datetime(newTH['Date'], infer_datetime_format = True)\n",
    "    newTH['Cases'] = newTH['Cases'].astype(int)\n",
    "    newTH['LogCases'] = newTH['Cases'].apply(lambda x: np.log(1+x))\n",
    "    return (newTH)\n",
    "\n",
    "## Read data for Italy\n",
    "url = 'https://github.com/CSSEGISandData/COVID-19/blob/master/csse_covid_19_data/csse_covid_19_time_series/time_series_covid19_confirmed_global.csv'\n",
    "df = rettable(url)\n",
    "df.head()\n",
    "df.to_csv('AllData.csv')"
   ]
  },
  {
   "cell_type": "code",
   "execution_count": 7,
   "metadata": {},
   "outputs": [],
   "source": [
    "def after100cases(df):\n",
    "    '''\n",
    "    function to return cases after 100\n",
    "    '''\n",
    "    df['Date'] = pd.to_datetime(df['Date'], infer_datetime_format = True)\n",
    "    df1 = df[df['Cases'] >= 100]\n",
    "    df1['Days'] = 0\n",
    "    df1['Days'] = df1['Date'].apply(lambda x: (x - df1['Date'].iloc[0]).days)\n",
    "    return (df1)"
   ]
  },
  {
   "cell_type": "markdown",
   "metadata": {},
   "source": [
    "## Case for Italy"
   ]
  },
  {
   "cell_type": "code",
   "execution_count": 8,
   "metadata": {},
   "outputs": [
    {
     "data": {
      "text/html": [
       "<div>\n",
       "<style scoped>\n",
       "    .dataframe tbody tr th:only-of-type {\n",
       "        vertical-align: middle;\n",
       "    }\n",
       "\n",
       "    .dataframe tbody tr th {\n",
       "        vertical-align: top;\n",
       "    }\n",
       "\n",
       "    .dataframe thead th {\n",
       "        text-align: right;\n",
       "    }\n",
       "</style>\n",
       "<table border=\"1\" class=\"dataframe\">\n",
       "  <thead>\n",
       "    <tr style=\"text-align: right;\">\n",
       "      <th></th>\n",
       "      <th>Date</th>\n",
       "      <th>Cases</th>\n",
       "      <th>LogCases</th>\n",
       "    </tr>\n",
       "  </thead>\n",
       "  <tbody>\n",
       "    <tr>\n",
       "      <td>0</td>\n",
       "      <td>2020-01-23</td>\n",
       "      <td>0</td>\n",
       "      <td>0.0</td>\n",
       "    </tr>\n",
       "    <tr>\n",
       "      <td>1</td>\n",
       "      <td>2020-01-24</td>\n",
       "      <td>0</td>\n",
       "      <td>0.0</td>\n",
       "    </tr>\n",
       "    <tr>\n",
       "      <td>2</td>\n",
       "      <td>2020-01-25</td>\n",
       "      <td>0</td>\n",
       "      <td>0.0</td>\n",
       "    </tr>\n",
       "    <tr>\n",
       "      <td>3</td>\n",
       "      <td>2020-01-26</td>\n",
       "      <td>0</td>\n",
       "      <td>0.0</td>\n",
       "    </tr>\n",
       "    <tr>\n",
       "      <td>4</td>\n",
       "      <td>2020-01-27</td>\n",
       "      <td>0</td>\n",
       "      <td>0.0</td>\n",
       "    </tr>\n",
       "  </tbody>\n",
       "</table>\n",
       "</div>"
      ],
      "text/plain": [
       "        Date  Cases  LogCases\n",
       "0 2020-01-23      0       0.0\n",
       "1 2020-01-24      0       0.0\n",
       "2 2020-01-25      0       0.0\n",
       "3 2020-01-26      0       0.0\n",
       "4 2020-01-27      0       0.0"
      ]
     },
     "execution_count": 8,
     "metadata": {},
     "output_type": "execute_result"
    }
   ],
   "source": [
    "italypop = 60550075\n",
    "italy = cleantbl(df, 'Italy')\n",
    "italy.head()"
   ]
  },
  {
   "cell_type": "code",
   "execution_count": 9,
   "metadata": {},
   "outputs": [
    {
     "name": "stdout",
     "output_type": "stream",
     "text": [
      "155\n"
     ]
    },
    {
     "name": "stderr",
     "output_type": "stream",
     "text": [
      "/home/srivallabha/.local/lib/python3.6/site-packages/ipykernel_launcher.py:7: SettingWithCopyWarning: \n",
      "A value is trying to be set on a copy of a slice from a DataFrame.\n",
      "Try using .loc[row_indexer,col_indexer] = value instead\n",
      "\n",
      "See the caveats in the documentation: http://pandas.pydata.org/pandas-docs/stable/user_guide/indexing.html#returning-a-view-versus-a-copy\n",
      "  import sys\n",
      "/home/srivallabha/.local/lib/python3.6/site-packages/ipykernel_launcher.py:8: SettingWithCopyWarning: \n",
      "A value is trying to be set on a copy of a slice from a DataFrame.\n",
      "Try using .loc[row_indexer,col_indexer] = value instead\n",
      "\n",
      "See the caveats in the documentation: http://pandas.pydata.org/pandas-docs/stable/user_guide/indexing.html#returning-a-view-versus-a-copy\n",
      "  \n"
     ]
    },
    {
     "data": {
      "text/html": [
       "<div>\n",
       "<style scoped>\n",
       "    .dataframe tbody tr th:only-of-type {\n",
       "        vertical-align: middle;\n",
       "    }\n",
       "\n",
       "    .dataframe tbody tr th {\n",
       "        vertical-align: top;\n",
       "    }\n",
       "\n",
       "    .dataframe thead th {\n",
       "        text-align: right;\n",
       "    }\n",
       "</style>\n",
       "<table border=\"1\" class=\"dataframe\">\n",
       "  <thead>\n",
       "    <tr style=\"text-align: right;\">\n",
       "      <th></th>\n",
       "      <th>Date</th>\n",
       "      <th>Cases</th>\n",
       "      <th>LogCases</th>\n",
       "      <th>Days</th>\n",
       "    </tr>\n",
       "  </thead>\n",
       "  <tbody>\n",
       "    <tr>\n",
       "      <td>31</td>\n",
       "      <td>2020-02-23</td>\n",
       "      <td>155</td>\n",
       "      <td>5.049856</td>\n",
       "      <td>0</td>\n",
       "    </tr>\n",
       "    <tr>\n",
       "      <td>32</td>\n",
       "      <td>2020-02-24</td>\n",
       "      <td>229</td>\n",
       "      <td>5.438079</td>\n",
       "      <td>1</td>\n",
       "    </tr>\n",
       "    <tr>\n",
       "      <td>33</td>\n",
       "      <td>2020-02-25</td>\n",
       "      <td>322</td>\n",
       "      <td>5.777652</td>\n",
       "      <td>2</td>\n",
       "    </tr>\n",
       "    <tr>\n",
       "      <td>34</td>\n",
       "      <td>2020-02-26</td>\n",
       "      <td>453</td>\n",
       "      <td>6.118097</td>\n",
       "      <td>3</td>\n",
       "    </tr>\n",
       "    <tr>\n",
       "      <td>35</td>\n",
       "      <td>2020-02-27</td>\n",
       "      <td>655</td>\n",
       "      <td>6.486161</td>\n",
       "      <td>4</td>\n",
       "    </tr>\n",
       "  </tbody>\n",
       "</table>\n",
       "</div>"
      ],
      "text/plain": [
       "         Date  Cases  LogCases  Days\n",
       "31 2020-02-23    155  5.049856     0\n",
       "32 2020-02-24    229  5.438079     1\n",
       "33 2020-02-25    322  5.777652     2\n",
       "34 2020-02-26    453  6.118097     3\n",
       "35 2020-02-27    655  6.486161     4"
      ]
     },
     "execution_count": 9,
     "metadata": {},
     "output_type": "execute_result"
    }
   ],
   "source": [
    "italy100 = after100cases(italy)\n",
    "italyinfected = italy100.Cases.iloc[0]\n",
    "print (italyinfected)\n",
    "italy100.head()"
   ]
  },
  {
   "cell_type": "code",
   "execution_count": 10,
   "metadata": {
    "scrolled": true
   },
   "outputs": [
    {
     "data": {
      "text/html": [
       "<div>\n",
       "<style scoped>\n",
       "    .dataframe tbody tr th:only-of-type {\n",
       "        vertical-align: middle;\n",
       "    }\n",
       "\n",
       "    .dataframe tbody tr th {\n",
       "        vertical-align: top;\n",
       "    }\n",
       "\n",
       "    .dataframe thead th {\n",
       "        text-align: right;\n",
       "    }\n",
       "</style>\n",
       "<table border=\"1\" class=\"dataframe\">\n",
       "  <thead>\n",
       "    <tr style=\"text-align: right;\">\n",
       "      <th></th>\n",
       "      <th>Date</th>\n",
       "      <th>Cases</th>\n",
       "      <th>LogCases</th>\n",
       "      <th>Days</th>\n",
       "    </tr>\n",
       "  </thead>\n",
       "  <tbody>\n",
       "    <tr>\n",
       "      <td>46</td>\n",
       "      <td>2020-03-09</td>\n",
       "      <td>9172</td>\n",
       "      <td>9.12402</td>\n",
       "      <td>15</td>\n",
       "    </tr>\n",
       "  </tbody>\n",
       "</table>\n",
       "</div>"
      ],
      "text/plain": [
       "         Date  Cases  LogCases  Days\n",
       "46 2020-03-09   9172   9.12402    15"
      ]
     },
     "execution_count": 10,
     "metadata": {},
     "output_type": "execute_result"
    }
   ],
   "source": [
    "italy100[italy100['Date'] == '2020-03-09']"
   ]
  },
  {
   "cell_type": "code",
   "execution_count": 11,
   "metadata": {},
   "outputs": [
    {
     "name": "stdout",
     "output_type": "stream",
     "text": [
      "[1.2, 1.21, 1.22, 1.23, 1.24, 1.25, 1.26, 1.27, 1.28, 1.29, 1.2999999999999998, 1.31, 1.3199999999999998, 1.3299999999999998, 1.3399999999999999, 1.3499999999999999, 1.3599999999999999, 1.3699999999999999, 1.38, 1.39, 1.4]\n",
      "1.3299999999999998\n",
      "1.3299999999999998\n",
      "3.0589999999999993\n"
     ]
    }
   ],
   "source": [
    "## strategy: check in larger intervals first, eg. 1, 1.2, 1.4, 1.6, 1.8, 2.0, by setting bmin=1, bmax=2\n",
    "## if beta = 1.2, then, check in smaller intervals, eg. 1.10, 1.12, 1,28, 1.30, by setting bmin=1, bmax=1.4\n",
    "bmin = 1.2\n",
    "bmax= 1.4\n",
    "\n",
    "\n",
    "## get the estimate of beta\n",
    "betaest = estbeta(df=italy100, pop=italypop, infected=italyinfected, days=15, betamin= bmin, betamax = bmax, nint=21)\n",
    "print (betaest)\n",
    "print (betaest * 2.3)"
   ]
  },
  {
   "cell_type": "code",
   "execution_count": 12,
   "metadata": {},
   "outputs": [],
   "source": [
    "def plotgraph(df, t, S, E, I, R, country, days):\n",
    "    \n",
    "    d1 = len(df['Days'])\n",
    "    d2 = len(t)\n",
    "    print (d1, d2)\n",
    "    mindays = min(d1, d2)\n",
    "    print (mindays)\n",
    "    \n",
    "    plt.plot(t, I+R, '-o')\n",
    "    plt.plot(df['Days'], df['Cases'], '*')\n",
    "    plt.yscale(\"log\")\n",
    "    #plt.ylim(0, 1e10)\n",
    "    plt.xlim(0, mindays)\n",
    "    plt.legend(['Predicted', 'Actual'])\n",
    "    plt.grid(True)\n",
    "    plt.xlabel('Days since 100th case')\n",
    "    plt.ylabel('Total # of cases')\n",
    "    plt.title(country)\n",
    "    plt.show()\n",
    "    \n",
    "    return ()"
   ]
  },
  {
   "cell_type": "code",
   "execution_count": 13,
   "metadata": {},
   "outputs": [
    {
     "name": "stdout",
     "output_type": "stream",
     "text": [
      "69 61\n",
      "61\n"
     ]
    },
    {
     "data": {
      "image/png": "[encoded data removed]",
      "text/plain": [
       "<Figure size 432x288 with 1 Axes>"
      ]
     },
     "metadata": {
      "needs_background": "light"
     },
     "output_type": "display_data"
    },
    {
     "data": {
      "text/plain": [
       "()"
      ]
     },
     "execution_count": 13,
     "metadata": {},
     "output_type": "execute_result"
    }
   ],
   "source": [
    "## Estimate values of the best beta\n",
    "t,S,E,I, R = predictcases(population= italypop, infected = italyinfected, incubation_period=5, \\\n",
    "                          infectious_period = 2.3, beta = betaest, EbyIratio=2.4, days=60)\n",
    "\n",
    "plotgraph(italy100, t, S, E, I, R, country='Italy', days=15)"
   ]
  },
  {
   "cell_type": "code",
   "execution_count": 72,
   "metadata": {},
   "outputs": [],
   "source": [
    "def plotgraph2(df, t, S, E, I, R, country, uptodate, mindate='2020-02-23', maxdate = '2020-05-01'):\n",
    "    \n",
    "    dfv = pd.DataFrame([t, S, E, I, R])\n",
    "    dfv = dfv.T\n",
    "    dfv.columns = ['Days', 'S', 'E', 'I', 'R']\n",
    "    dftot = pd.merge(df, dfv, how='left', on='Days')\n",
    "    \n",
    "    dftot = dftot[dftot['Date'] <= uptodate]    \n",
    "    \n",
    "    fig = plt.figure(figsize=(10,6))\n",
    "    plt.plot(dftot['Date'], dftot['I'] + dftot['R'], '-o')\n",
    "    plt.plot(dftot['Date'], dftot['Cases'], '*')\n",
    "    plt.yscale(\"log\")\n",
    "    #plt.vlines('2020-03-09', 0, 1e7, linestyles='dashed')\n",
    "    #plt.text('2020-03-10', 1e3, 'Italy LockDown', fontsize=18, )\n",
    "    plt.ylim(1e2, 1e5)\n",
    "    plt.xlim(mindate, maxdate)\n",
    "    plt.legend(['Predicted', 'Actual'], loc=4)\n",
    "    plt.grid(True)\n",
    "    \n",
    "    plt.xlabel('Date')\n",
    "    plt.xticks(rotation=90)\n",
    "    plt.ylabel('Total # of cases')\n",
    "    plt.title(country)\n",
    "    plt.show()\n",
    "    return ()\n"
   ]
  },
  {
   "cell_type": "code",
   "execution_count": 37,
   "metadata": {},
   "outputs": [
    {
     "data": {
      "image/png": "[encoded data removed]",
      "text/plain": [
       "<Figure size 720x432 with 1 Axes>"
      ]
     },
     "metadata": {
      "needs_background": "light"
     },
     "output_type": "display_data"
    },
    {
     "data": {
      "text/plain": [
       "()"
      ]
     },
     "execution_count": 37,
     "metadata": {},
     "output_type": "execute_result"
    }
   ],
   "source": [
    "plotgraph2(italy100, t, S, E, I, R, country='Italy', mindate='2020-02-23', maxdate = '2020-05-01', uptodate='2020-03-09')"
   ]
  },
  {
   "cell_type": "code",
   "execution_count": 38,
   "metadata": {},
   "outputs": [
    {
     "data": {
      "image/png": "[encoded data removed]",
      "text/plain": [
       "<Figure size 720x432 with 1 Axes>"
      ]
     },
     "metadata": {
      "needs_background": "light"
     },
     "output_type": "display_data"
    },
    {
     "data": {
      "text/plain": [
       "()"
      ]
     },
     "execution_count": 38,
     "metadata": {},
     "output_type": "execute_result"
    }
   ],
   "source": [
    "plotgraph2(italy100, t, S, E, I, R, country='Italy', uptodate='2020-05-01' )"
   ]
  },
  {
   "cell_type": "code",
   "execution_count": 54,
   "metadata": {},
   "outputs": [
    {
     "data": {
      "image/png": "[encoded data removed]",
      "text/plain": [
       "<Figure size 720x432 with 1 Axes>"
      ]
     },
     "metadata": {
      "needs_background": "light"
     },
     "output_type": "display_data"
    },
    {
     "data": {
      "text/plain": [
       "()"
      ]
     },
     "execution_count": 54,
     "metadata": {},
     "output_type": "execute_result"
    }
   ],
   "source": [
    "plotgraph2(italy100, t, S, E, I, R, country='Italy', uptodate='2020-05-01' )"
   ]
  },
  {
   "cell_type": "code",
   "execution_count": 55,
   "metadata": {},
   "outputs": [],
   "source": [
    "## Cases for Brazil"
   ]
  },
  {
   "cell_type": "code",
   "execution_count": 56,
   "metadata": {},
   "outputs": [
    {
     "name": "stdout",
     "output_type": "stream",
     "text": [
      "151\n"
     ]
    },
    {
     "name": "stderr",
     "output_type": "stream",
     "text": [
      "/home/srivallabha/.local/lib/python3.6/site-packages/ipykernel_launcher.py:7: SettingWithCopyWarning: \n",
      "A value is trying to be set on a copy of a slice from a DataFrame.\n",
      "Try using .loc[row_indexer,col_indexer] = value instead\n",
      "\n",
      "See the caveats in the documentation: http://pandas.pydata.org/pandas-docs/stable/user_guide/indexing.html#returning-a-view-versus-a-copy\n",
      "  import sys\n",
      "/home/srivallabha/.local/lib/python3.6/site-packages/ipykernel_launcher.py:8: SettingWithCopyWarning: \n",
      "A value is trying to be set on a copy of a slice from a DataFrame.\n",
      "Try using .loc[row_indexer,col_indexer] = value instead\n",
      "\n",
      "See the caveats in the documentation: http://pandas.pydata.org/pandas-docs/stable/user_guide/indexing.html#returning-a-view-versus-a-copy\n",
      "  \n"
     ]
    },
    {
     "data": {
      "text/html": [
       "<div>\n",
       "<style scoped>\n",
       "    .dataframe tbody tr th:only-of-type {\n",
       "        vertical-align: middle;\n",
       "    }\n",
       "\n",
       "    .dataframe tbody tr th {\n",
       "        vertical-align: top;\n",
       "    }\n",
       "\n",
       "    .dataframe thead th {\n",
       "        text-align: right;\n",
       "    }\n",
       "</style>\n",
       "<table border=\"1\" class=\"dataframe\">\n",
       "  <thead>\n",
       "    <tr style=\"text-align: right;\">\n",
       "      <th></th>\n",
       "      <th>Date</th>\n",
       "      <th>Cases</th>\n",
       "      <th>LogCases</th>\n",
       "      <th>Days</th>\n",
       "    </tr>\n",
       "  </thead>\n",
       "  <tbody>\n",
       "    <tr>\n",
       "      <td>50</td>\n",
       "      <td>2020-03-13</td>\n",
       "      <td>151</td>\n",
       "      <td>5.023881</td>\n",
       "      <td>0</td>\n",
       "    </tr>\n",
       "    <tr>\n",
       "      <td>51</td>\n",
       "      <td>2020-03-14</td>\n",
       "      <td>151</td>\n",
       "      <td>5.023881</td>\n",
       "      <td>1</td>\n",
       "    </tr>\n",
       "    <tr>\n",
       "      <td>52</td>\n",
       "      <td>2020-03-15</td>\n",
       "      <td>162</td>\n",
       "      <td>5.093750</td>\n",
       "      <td>2</td>\n",
       "    </tr>\n",
       "    <tr>\n",
       "      <td>53</td>\n",
       "      <td>2020-03-16</td>\n",
       "      <td>200</td>\n",
       "      <td>5.303305</td>\n",
       "      <td>3</td>\n",
       "    </tr>\n",
       "    <tr>\n",
       "      <td>54</td>\n",
       "      <td>2020-03-17</td>\n",
       "      <td>321</td>\n",
       "      <td>5.774552</td>\n",
       "      <td>4</td>\n",
       "    </tr>\n",
       "  </tbody>\n",
       "</table>\n",
       "</div>"
      ],
      "text/plain": [
       "         Date  Cases  LogCases  Days\n",
       "50 2020-03-13    151  5.023881     0\n",
       "51 2020-03-14    151  5.023881     1\n",
       "52 2020-03-15    162  5.093750     2\n",
       "53 2020-03-16    200  5.303305     3\n",
       "54 2020-03-17    321  5.774552     4"
      ]
     },
     "execution_count": 56,
     "metadata": {},
     "output_type": "execute_result"
    }
   ],
   "source": [
    "brazilpop = 212559417  #https://www.worldometers.info/world-population/brazil-population/\n",
    "brazil = cleantbl(df, 'Brazil')\n",
    "brazil.tail()\n",
    "brazil100 = after100cases(brazil)\n",
    "brazilinfected = brazil100.Cases.iloc[0]\n",
    "print (brazilinfected)\n",
    "brazil100.head()"
   ]
  },
  {
   "cell_type": "code",
   "execution_count": 57,
   "metadata": {},
   "outputs": [
    {
     "data": {
      "image/png": "[encoded data removed]",
      "text/plain": [
       "<Figure size 432x288 with 1 Axes>"
      ]
     },
     "metadata": {
      "needs_background": "light"
     },
     "output_type": "display_data"
    }
   ],
   "source": [
    "plt.plot(brazil['Date'], brazil['Cases'])\n",
    "plt.yscale(\"log\")\n",
    "plt.xticks(rotation=90)\n",
    "plt.show()"
   ]
  },
  {
   "cell_type": "code",
   "execution_count": 70,
   "metadata": {},
   "outputs": [
    {
     "name": "stdout",
     "output_type": "stream",
     "text": [
      "[0.6, 0.61, 0.62, 0.63, 0.64, 0.65, 0.66, 0.67, 0.68, 0.6900000000000001, 0.7, 0.71, 0.72, 0.73, 0.74, 0.75, 0.76, 0.77, 0.78, 0.79, 0.8]\n",
      "0.78\n",
      "0.78\n",
      "1.7939999999999998\n"
     ]
    }
   ],
   "source": [
    "## strategy: check in larger intervals first, eg. 1, 1.2, 1.4, 1.6, 1.8, 2.0, by setting bmin=1, bmax=2\n",
    "## if beta = 1.2, then, check in smaller intervals, eg. 1.10, 1.12, 1,28, 1.30, by setting bmin=1, bmax=1.4\n",
    "bmin = 0.6\n",
    "bmax= 0.8\n",
    "\n",
    "\n",
    "## get the estimate of beta\n",
    "betaest = estbeta(df=brazil100, pop=brazilpop, infected=brazilinfected, days=15, betamin= bmin, betamax = bmax, nint=21)\n",
    "print (betaest)\n",
    "print (betaest * 2.3)"
   ]
  },
  {
   "cell_type": "code",
   "execution_count": 71,
   "metadata": {},
   "outputs": [
    {
     "name": "stdout",
     "output_type": "stream",
     "text": [
      "50 61\n",
      "50\n"
     ]
    },
    {
     "data": {
      "image/png": "[encoded data removed]",
      "text/plain": [
       "<Figure size 432x288 with 1 Axes>"
      ]
     },
     "metadata": {
      "needs_background": "light"
     },
     "output_type": "display_data"
    },
    {
     "data": {
      "text/plain": [
       "()"
      ]
     },
     "execution_count": 71,
     "metadata": {},
     "output_type": "execute_result"
    }
   ],
   "source": [
    "t,S,E,I, R = predictcases(population= brazilpop, infected = brazilinfected, incubation_period=5, \\\n",
    "                          infectious_period = 2.3, beta = betaest, EbyIratio=2.4, days=60)\n",
    "\n",
    "plotgraph(brazil100, t, S, E, I, R, country='Brazil', days=35)"
   ]
  },
  {
   "cell_type": "code",
   "execution_count": 73,
   "metadata": {},
   "outputs": [
    {
     "data": {
      "image/png": "[encoded data removed]",
      "text/plain": [
       "<Figure size 720x432 with 1 Axes>"
      ]
     },
     "metadata": {
      "needs_background": "light"
     },
     "output_type": "display_data"
    },
    {
     "data": {
      "text/plain": [
       "()"
      ]
     },
     "execution_count": 73,
     "metadata": {},
     "output_type": "execute_result"
    }
   ],
   "source": [
    "plotgraph2(brazil100, t, S, E, I, R, country='Brazil', mindate='2020-03-13', maxdate = '2020-05-01', uptodate='2020-03-28')"
   ]
  },
  {
   "cell_type": "code",
   "execution_count": 74,
   "metadata": {},
   "outputs": [
    {
     "data": {
      "image/png": "[encoded data removed]",
      "text/plain": [
       "<Figure size 720x432 with 1 Axes>"
      ]
     },
     "metadata": {
      "needs_background": "light"
     },
     "output_type": "display_data"
    },
    {
     "data": {
      "text/plain": [
       "()"
      ]
     },
     "execution_count": 74,
     "metadata": {},
     "output_type": "execute_result"
    }
   ],
   "source": [
    "plotgraph2(brazil100, t, S, E, I, R, country='Brazil', mindate='2020-03-13', maxdate = '2020-05-01', uptodate='2020-05-01')"
   ]
  },
  {
   "cell_type": "code",
   "execution_count": null,
   "metadata": {},
   "outputs": [],
   "source": []
  }
 ],
 "metadata": {
  "kernelspec": {
   "display_name": "Python 3",
   "language": "python",
   "name": "python3"
  },
  "language_info": {
   "codemirror_mode": {
    "name": "ipython",
    "version": 3
   },
   "file_extension": ".py",
   "mimetype": "text/x-python",
   "name": "python",
   "nbconvert_exporter": "python",
   "pygments_lexer": "ipython3",
   "version": "3.6.9"
  }
 },
 "nbformat": 4,
 "nbformat_minor": 2
}
