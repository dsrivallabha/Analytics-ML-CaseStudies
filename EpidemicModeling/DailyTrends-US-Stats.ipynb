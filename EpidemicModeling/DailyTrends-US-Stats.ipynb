{
 "cells": [
  {
   "cell_type": "code",
   "execution_count": 1,
   "metadata": {},
   "outputs": [],
   "source": [
    "import pandas as pd\n",
    "import numpy as np\n",
    "import seaborn as sns\n",
    "import matplotlib.pyplot as plt\n",
    "#from urllib import request\n",
    "#import json"
   ]
  },
  {
   "cell_type": "raw",
   "metadata": {},
   "source": [
    "url = 'https://covidtracking.com/api/states/daily'\n",
    "response = request.urlopen(url)\n",
    "data = json.loads(response.read())\n",
    "print (data)"
   ]
  },
  {
   "cell_type": "code",
   "execution_count": 2,
   "metadata": {},
   "outputs": [],
   "source": [
    "url = 'https://covidtracking.com/api/states/daily'\n",
    "dd = pd.read_json(url)"
   ]
  },
  {
   "cell_type": "code",
   "execution_count": 3,
   "metadata": {},
   "outputs": [],
   "source": [
    "dd.head()\n",
    "dd1 = dd.copy()"
   ]
  },
  {
   "cell_type": "code",
   "execution_count": 4,
   "metadata": {},
   "outputs": [
    {
     "data": {
      "text/html": [
       "<div>\n",
       "<style scoped>\n",
       "    .dataframe tbody tr th:only-of-type {\n",
       "        vertical-align: middle;\n",
       "    }\n",
       "\n",
       "    .dataframe tbody tr th {\n",
       "        vertical-align: top;\n",
       "    }\n",
       "\n",
       "    .dataframe thead th {\n",
       "        text-align: right;\n",
       "    }\n",
       "</style>\n",
       "<table border=\"1\" class=\"dataframe\">\n",
       "  <thead>\n",
       "    <tr style=\"text-align: right;\">\n",
       "      <th></th>\n",
       "      <th>date</th>\n",
       "      <th>state</th>\n",
       "      <th>positive</th>\n",
       "      <th>negative</th>\n",
       "      <th>pending</th>\n",
       "      <th>hospitalized</th>\n",
       "      <th>death</th>\n",
       "      <th>total</th>\n",
       "      <th>hash</th>\n",
       "      <th>dateChecked</th>\n",
       "      <th>totalTestResults</th>\n",
       "      <th>fips</th>\n",
       "      <th>deathIncrease</th>\n",
       "      <th>hospitalizedIncrease</th>\n",
       "      <th>negativeIncrease</th>\n",
       "      <th>positiveIncrease</th>\n",
       "      <th>totalTestResultsIncrease</th>\n",
       "    </tr>\n",
       "  </thead>\n",
       "  <tbody>\n",
       "    <tr>\n",
       "      <td>0</td>\n",
       "      <td>2020-03-30</td>\n",
       "      <td>AK</td>\n",
       "      <td>114.0</td>\n",
       "      <td>3540.0</td>\n",
       "      <td>NaN</td>\n",
       "      <td>7.0</td>\n",
       "      <td>3.0</td>\n",
       "      <td>3654</td>\n",
       "      <td>01a1c96fd2ed214d8747ab778c2fec7203c8cd2f</td>\n",
       "      <td>2020-03-30T20:00:00Z</td>\n",
       "      <td>3654</td>\n",
       "      <td>2</td>\n",
       "      <td>1.0</td>\n",
       "      <td>1.0</td>\n",
       "      <td>308.0</td>\n",
       "      <td>12.0</td>\n",
       "      <td>320.0</td>\n",
       "    </tr>\n",
       "    <tr>\n",
       "      <td>1</td>\n",
       "      <td>2020-03-30</td>\n",
       "      <td>AL</td>\n",
       "      <td>859.0</td>\n",
       "      <td>5694.0</td>\n",
       "      <td>NaN</td>\n",
       "      <td>NaN</td>\n",
       "      <td>6.0</td>\n",
       "      <td>6553</td>\n",
       "      <td>1ced1dbd9879f8bbc4b1f7b7876b82611895d58e</td>\n",
       "      <td>2020-03-30T20:00:00Z</td>\n",
       "      <td>6553</td>\n",
       "      <td>1</td>\n",
       "      <td>2.0</td>\n",
       "      <td>0.0</td>\n",
       "      <td>1510.0</td>\n",
       "      <td>53.0</td>\n",
       "      <td>1563.0</td>\n",
       "    </tr>\n",
       "    <tr>\n",
       "      <td>2</td>\n",
       "      <td>2020-03-30</td>\n",
       "      <td>AR</td>\n",
       "      <td>473.0</td>\n",
       "      <td>5262.0</td>\n",
       "      <td>NaN</td>\n",
       "      <td>62.0</td>\n",
       "      <td>7.0</td>\n",
       "      <td>5735</td>\n",
       "      <td>7199b3f9984cc54342a3d0f5926bff36ef440b6c</td>\n",
       "      <td>2020-03-30T20:00:00Z</td>\n",
       "      <td>5735</td>\n",
       "      <td>5</td>\n",
       "      <td>1.0</td>\n",
       "      <td>14.0</td>\n",
       "      <td>2235.0</td>\n",
       "      <td>47.0</td>\n",
       "      <td>2282.0</td>\n",
       "    </tr>\n",
       "    <tr>\n",
       "      <td>3</td>\n",
       "      <td>2020-03-30</td>\n",
       "      <td>AS</td>\n",
       "      <td>NaN</td>\n",
       "      <td>NaN</td>\n",
       "      <td>NaN</td>\n",
       "      <td>NaN</td>\n",
       "      <td>0.0</td>\n",
       "      <td>0</td>\n",
       "      <td>955da7e53291581ad33f46d87bad7e4724848fea</td>\n",
       "      <td>2020-03-30T20:00:00Z</td>\n",
       "      <td>0</td>\n",
       "      <td>60</td>\n",
       "      <td>0.0</td>\n",
       "      <td>0.0</td>\n",
       "      <td>0.0</td>\n",
       "      <td>0.0</td>\n",
       "      <td>0.0</td>\n",
       "    </tr>\n",
       "    <tr>\n",
       "      <td>4</td>\n",
       "      <td>2020-03-30</td>\n",
       "      <td>AZ</td>\n",
       "      <td>1157.0</td>\n",
       "      <td>15602.0</td>\n",
       "      <td>NaN</td>\n",
       "      <td>78.0</td>\n",
       "      <td>20.0</td>\n",
       "      <td>16759</td>\n",
       "      <td>2f64421fc130d03c93a0fa1b89e44c0324ac15a3</td>\n",
       "      <td>2020-03-30T20:00:00Z</td>\n",
       "      <td>16759</td>\n",
       "      <td>4</td>\n",
       "      <td>3.0</td>\n",
       "      <td>0.0</td>\n",
       "      <td>2649.0</td>\n",
       "      <td>238.0</td>\n",
       "      <td>2887.0</td>\n",
       "    </tr>\n",
       "  </tbody>\n",
       "</table>\n",
       "</div>"
      ],
      "text/plain": [
       "        date state  positive  negative  pending  hospitalized  death  total  \\\n",
       "0 2020-03-30    AK     114.0    3540.0      NaN           7.0    3.0   3654   \n",
       "1 2020-03-30    AL     859.0    5694.0      NaN           NaN    6.0   6553   \n",
       "2 2020-03-30    AR     473.0    5262.0      NaN          62.0    7.0   5735   \n",
       "3 2020-03-30    AS       NaN       NaN      NaN           NaN    0.0      0   \n",
       "4 2020-03-30    AZ    1157.0   15602.0      NaN          78.0   20.0  16759   \n",
       "\n",
       "                                       hash           dateChecked  \\\n",
       "0  01a1c96fd2ed214d8747ab778c2fec7203c8cd2f  2020-03-30T20:00:00Z   \n",
       "1  1ced1dbd9879f8bbc4b1f7b7876b82611895d58e  2020-03-30T20:00:00Z   \n",
       "2  7199b3f9984cc54342a3d0f5926bff36ef440b6c  2020-03-30T20:00:00Z   \n",
       "3  955da7e53291581ad33f46d87bad7e4724848fea  2020-03-30T20:00:00Z   \n",
       "4  2f64421fc130d03c93a0fa1b89e44c0324ac15a3  2020-03-30T20:00:00Z   \n",
       "\n",
       "   totalTestResults  fips  deathIncrease  hospitalizedIncrease  \\\n",
       "0              3654     2            1.0                   1.0   \n",
       "1              6553     1            2.0                   0.0   \n",
       "2              5735     5            1.0                  14.0   \n",
       "3                 0    60            0.0                   0.0   \n",
       "4             16759     4            3.0                   0.0   \n",
       "\n",
       "   negativeIncrease  positiveIncrease  totalTestResultsIncrease  \n",
       "0             308.0              12.0                     320.0  \n",
       "1            1510.0              53.0                    1563.0  \n",
       "2            2235.0              47.0                    2282.0  \n",
       "3               0.0               0.0                       0.0  \n",
       "4            2649.0             238.0                    2887.0  "
      ]
     },
     "execution_count": 4,
     "metadata": {},
     "output_type": "execute_result"
    }
   ],
   "source": [
    "dd['date'] = pd.to_datetime(dd['date'], format = '%Y%m%d')\n",
    "dd.head()"
   ]
  },
  {
   "cell_type": "code",
   "execution_count": 5,
   "metadata": {},
   "outputs": [
    {
     "name": "stdout",
     "output_type": "stream",
     "text": [
      "Today's date: 2020-03-30\n"
     ]
    },
    {
     "data": {
      "text/plain": [
       "'2020-03-30'"
      ]
     },
     "execution_count": 5,
     "metadata": {},
     "output_type": "execute_result"
    }
   ],
   "source": [
    "from datetime import date, timedelta\n",
    "\n",
    "yesterday = date.today() - timedelta(days=1)\n",
    "print(\"Today's date:\", yesterday)\n",
    "str(yesterday)"
   ]
  },
  {
   "cell_type": "code",
   "execution_count": 6,
   "metadata": {},
   "outputs": [
    {
     "data": {
      "text/html": [
       "<div>\n",
       "<style scoped>\n",
       "    .dataframe tbody tr th:only-of-type {\n",
       "        vertical-align: middle;\n",
       "    }\n",
       "\n",
       "    .dataframe tbody tr th {\n",
       "        vertical-align: top;\n",
       "    }\n",
       "\n",
       "    .dataframe thead th {\n",
       "        text-align: right;\n",
       "    }\n",
       "</style>\n",
       "<table border=\"1\" class=\"dataframe\">\n",
       "  <thead>\n",
       "    <tr style=\"text-align: right;\">\n",
       "      <th></th>\n",
       "      <th>date</th>\n",
       "      <th>state</th>\n",
       "      <th>positive</th>\n",
       "      <th>negative</th>\n",
       "      <th>pending</th>\n",
       "      <th>hospitalized</th>\n",
       "      <th>death</th>\n",
       "      <th>total</th>\n",
       "      <th>hash</th>\n",
       "      <th>dateChecked</th>\n",
       "      <th>totalTestResults</th>\n",
       "      <th>fips</th>\n",
       "      <th>deathIncrease</th>\n",
       "      <th>hospitalizedIncrease</th>\n",
       "      <th>negativeIncrease</th>\n",
       "      <th>positiveIncrease</th>\n",
       "      <th>totalTestResultsIncrease</th>\n",
       "    </tr>\n",
       "  </thead>\n",
       "  <tbody>\n",
       "    <tr>\n",
       "      <td>37</td>\n",
       "      <td>2020-03-30</td>\n",
       "      <td>NY</td>\n",
       "      <td>66497.0</td>\n",
       "      <td>119971.0</td>\n",
       "      <td>NaN</td>\n",
       "      <td>13721.0</td>\n",
       "      <td>1218.0</td>\n",
       "      <td>186468</td>\n",
       "      <td>755efe3e09da2292c390c480ff23e2251c09b43b</td>\n",
       "      <td>2020-03-30T20:00:00Z</td>\n",
       "      <td>186468</td>\n",
       "      <td>36</td>\n",
       "      <td>253.0</td>\n",
       "      <td>1646.0</td>\n",
       "      <td>7124.0</td>\n",
       "      <td>6984.0</td>\n",
       "      <td>14108.0</td>\n",
       "    </tr>\n",
       "    <tr>\n",
       "      <td>34</td>\n",
       "      <td>2020-03-30</td>\n",
       "      <td>NJ</td>\n",
       "      <td>16636.0</td>\n",
       "      <td>25224.0</td>\n",
       "      <td>NaN</td>\n",
       "      <td>NaN</td>\n",
       "      <td>198.0</td>\n",
       "      <td>41860</td>\n",
       "      <td>b608150f7f58bad4c4e94e88e9335f9388d47bea</td>\n",
       "      <td>2020-03-30T20:00:00Z</td>\n",
       "      <td>41860</td>\n",
       "      <td>34</td>\n",
       "      <td>37.0</td>\n",
       "      <td>0.0</td>\n",
       "      <td>3008.0</td>\n",
       "      <td>3250.0</td>\n",
       "      <td>6258.0</td>\n",
       "    </tr>\n",
       "    <tr>\n",
       "      <td>24</td>\n",
       "      <td>2020-03-30</td>\n",
       "      <td>MI</td>\n",
       "      <td>6498.0</td>\n",
       "      <td>11893.0</td>\n",
       "      <td>NaN</td>\n",
       "      <td>NaN</td>\n",
       "      <td>184.0</td>\n",
       "      <td>18391</td>\n",
       "      <td>ef7572a83f71543e3ee8804e389dd3f08da649b6</td>\n",
       "      <td>2020-03-30T20:00:00Z</td>\n",
       "      <td>18391</td>\n",
       "      <td>26</td>\n",
       "      <td>52.0</td>\n",
       "      <td>0.0</td>\n",
       "      <td>0.0</td>\n",
       "      <td>1012.0</td>\n",
       "      <td>1012.0</td>\n",
       "    </tr>\n",
       "    <tr>\n",
       "      <td>5</td>\n",
       "      <td>2020-03-30</td>\n",
       "      <td>CA</td>\n",
       "      <td>6447.0</td>\n",
       "      <td>20549.0</td>\n",
       "      <td>64400.0</td>\n",
       "      <td>1432.0</td>\n",
       "      <td>133.0</td>\n",
       "      <td>91396</td>\n",
       "      <td>ae23f3ed0050ca169785393619aae098baa36d78</td>\n",
       "      <td>2020-03-30T20:00:00Z</td>\n",
       "      <td>26996</td>\n",
       "      <td>6</td>\n",
       "      <td>10.0</td>\n",
       "      <td>398.0</td>\n",
       "      <td>0.0</td>\n",
       "      <td>739.0</td>\n",
       "      <td>739.0</td>\n",
       "    </tr>\n",
       "    <tr>\n",
       "      <td>21</td>\n",
       "      <td>2020-03-30</td>\n",
       "      <td>MA</td>\n",
       "      <td>5752.0</td>\n",
       "      <td>37041.0</td>\n",
       "      <td>NaN</td>\n",
       "      <td>453.0</td>\n",
       "      <td>56.0</td>\n",
       "      <td>42793</td>\n",
       "      <td>fdfd43359ac7ada466f488ec008cee5fdd97cbe1</td>\n",
       "      <td>2020-03-30T20:00:00Z</td>\n",
       "      <td>42793</td>\n",
       "      <td>25</td>\n",
       "      <td>8.0</td>\n",
       "      <td>54.0</td>\n",
       "      <td>2930.0</td>\n",
       "      <td>797.0</td>\n",
       "      <td>3727.0</td>\n",
       "    </tr>\n",
       "  </tbody>\n",
       "</table>\n",
       "</div>"
      ],
      "text/plain": [
       "         date state  positive  negative  pending  hospitalized   death  \\\n",
       "37 2020-03-30    NY   66497.0  119971.0      NaN       13721.0  1218.0   \n",
       "34 2020-03-30    NJ   16636.0   25224.0      NaN           NaN   198.0   \n",
       "24 2020-03-30    MI    6498.0   11893.0      NaN           NaN   184.0   \n",
       "5  2020-03-30    CA    6447.0   20549.0  64400.0        1432.0   133.0   \n",
       "21 2020-03-30    MA    5752.0   37041.0      NaN         453.0    56.0   \n",
       "\n",
       "     total                                      hash           dateChecked  \\\n",
       "37  186468  755efe3e09da2292c390c480ff23e2251c09b43b  2020-03-30T20:00:00Z   \n",
       "34   41860  b608150f7f58bad4c4e94e88e9335f9388d47bea  2020-03-30T20:00:00Z   \n",
       "24   18391  ef7572a83f71543e3ee8804e389dd3f08da649b6  2020-03-30T20:00:00Z   \n",
       "5    91396  ae23f3ed0050ca169785393619aae098baa36d78  2020-03-30T20:00:00Z   \n",
       "21   42793  fdfd43359ac7ada466f488ec008cee5fdd97cbe1  2020-03-30T20:00:00Z   \n",
       "\n",
       "    totalTestResults  fips  deathIncrease  hospitalizedIncrease  \\\n",
       "37            186468    36          253.0                1646.0   \n",
       "34             41860    34           37.0                   0.0   \n",
       "24             18391    26           52.0                   0.0   \n",
       "5              26996     6           10.0                 398.0   \n",
       "21             42793    25            8.0                  54.0   \n",
       "\n",
       "    negativeIncrease  positiveIncrease  totalTestResultsIncrease  \n",
       "37            7124.0            6984.0                   14108.0  \n",
       "34            3008.0            3250.0                    6258.0  \n",
       "24               0.0            1012.0                    1012.0  \n",
       "5                0.0             739.0                     739.0  \n",
       "21            2930.0             797.0                    3727.0  "
      ]
     },
     "execution_count": 6,
     "metadata": {},
     "output_type": "execute_result"
    }
   ],
   "source": [
    "today = dd[dd['date'] == str(yesterday)]\n",
    "today = today.sort_values('positive', ascending=False)\n",
    "today.head()"
   ]
  },
  {
   "cell_type": "code",
   "execution_count": 7,
   "metadata": {},
   "outputs": [
    {
     "data": {
      "text/plain": [
       "Text(0.5, 0, 'No of cases')"
      ]
     },
     "execution_count": 7,
     "metadata": {},
     "output_type": "execute_result"
    },
    {
     "data": {
      "image/png": "[encoded data removed]",
      "text/plain": [
       "<Figure size 432x288 with 1 Axes>"
      ]
     },
     "metadata": {
      "needs_background": "light"
     },
     "output_type": "display_data"
    }
   ],
   "source": [
    "t1 = today.head(10)\n",
    "ax = sns.barplot(t1['positive'], t1['state'])\n",
    "ax.set_xlabel('No of cases')"
   ]
  },
  {
   "cell_type": "code",
   "execution_count": 13,
   "metadata": {},
   "outputs": [],
   "source": [
    "NY = dd[dd['state'] == 'NY']\n",
    "NJ = dd[dd['state'] == 'NJ']\n",
    "LA = dd[dd['state'] == 'LA']"
   ]
  },
  {
   "cell_type": "code",
   "execution_count": 15,
   "metadata": {},
   "outputs": [
    {
     "data": {
      "text/plain": [
       "(array([737489., 737493., 737497., 737501., 737505., 737509., 737513.]),\n",
       " <a list of 7 Text major ticklabel objects>)"
      ]
     },
     "execution_count": 15,
     "metadata": {},
     "output_type": "execute_result"
    },
    {
     "data": {
      "image/png": "[encoded data removed]",
      "text/plain": [
       "<Figure size 432x288 with 1 Axes>"
      ]
     },
     "metadata": {
      "needs_background": "light"
     },
     "output_type": "display_data"
    }
   ],
   "source": [
    "plt.plot(NY['date'], NY['positive'])\n",
    "plt.plot(NJ['date'], NJ['positive'])\n",
    "plt.plot(LA['date'], LA['positive'])\n",
    "plt.legend(['NY', 'NJ', 'LA'])\n",
    "plt.ylim(100,10000)\n",
    "plt.yscale(\"log\")\n",
    "plt.grid(True)\n",
    "plt.xticks(rotation=90)"
   ]
  },
  {
   "cell_type": "code",
   "execution_count": 15,
   "metadata": {},
   "outputs": [],
   "source": [
    "NY.to_csv('NewYork.csv')"
   ]
  },
  {
   "cell_type": "code",
   "execution_count": null,
   "metadata": {},
   "outputs": [],
   "source": []
  }
 ],
 "metadata": {
  "kernelspec": {
   "display_name": "Python 3",
   "language": "python",
   "name": "python3"
  },
  "language_info": {
   "codemirror_mode": {
    "name": "ipython",
    "version": 3
   },
   "file_extension": ".py",
   "mimetype": "text/x-python",
   "name": "python",
   "nbconvert_exporter": "python",
   "pygments_lexer": "ipython3",
   "version": "3.6.9"
  }
 },
 "nbformat": 4,
 "nbformat_minor": 2
}
