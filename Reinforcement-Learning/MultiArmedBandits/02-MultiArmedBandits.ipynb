{
 "cells": [
  {
   "cell_type": "code",
   "execution_count": 3,
   "metadata": {
    "id": "1CbUVF6t96d6"
   },
   "outputs": [],
   "source": [
    "import numpy as np\n",
    "import pandas as pd\n",
    "import matplotlib.pyplot as plt\n",
    "from IPython.display import Image\n",
    "import ipyplot"
   ]
  },
  {
   "cell_type": "markdown",
   "metadata": {
    "id": "dqljDxM_96d9"
   },
   "source": [
    "# Functions"
   ]
  },
  {
   "cell_type": "code",
   "execution_count": 4,
   "metadata": {
    "id": "cy23wjpV96d_",
    "outputId": "530a2e62-8843-4dd9-ec7b-cd709cec6c26"
   },
   "outputs": [
    {
     "name": "stdout",
     "output_type": "stream",
     "text": [
      "[0.01, 0.015, 0.25, 0.18, 0.05]\n"
     ]
    },
    {
     "data": {
      "text/plain": [
       "[0.01, 0.015, 0.1, 0.28, 0.05]"
      ]
     },
     "execution_count": 4,
     "metadata": {},
     "output_type": "execute_result"
    }
   ],
   "source": [
    "def probs(n=0, nthresh=500):\n",
    "    '''\n",
    "    in this example, the probability of clicking each ad changes with time\n",
    "    n is the counter/round for when the ad is being shown\n",
    "    preferences change by a small amount epsilon\n",
    "    '''\n",
    "    #parameter\n",
    "    eps = 0.1\n",
    "    \n",
    "    #baseline probabilities of clicking ads\n",
    "    adprobs = [0.01, 0.015, 0.25, 0.18, 0.05]\n",
    "    \n",
    "    if (n> nthresh):\n",
    "        adprobs = [0.01, 0.015, 0.1, 0.28, 0.05]\n",
    "    \n",
    "    return adprobs\n",
    "\n",
    "print (probs(0))\n",
    "probs(1000)\n"
   ]
  },
  {
   "cell_type": "code",
   "execution_count": 5,
   "metadata": {
    "id": "UA9ULj7796eA"
   },
   "outputs": [],
   "source": [
    "def computeucb(shown, clicked):\n",
    "    '''\n",
    "    function to compute upper confidence bound\n",
    "    UCB calculation from: \n",
    "    https://analyticsindiamag.com/reinforcement-learning-the-concept-behind-ucb-explained-with-code/\n",
    "    '''\n",
    "    #no of ads shown\n",
    "    nads = len(shown)\n",
    "    \n",
    "    #mean and sd of clicks\n",
    "    mean = np.zeros(nads)\n",
    "    sd = np.zeros(nads)\n",
    "    \n",
    "    #no of times ads are shown\n",
    "    nrounds = np.sum(shown)\n",
    "    \n",
    "    for i in range(nads):\n",
    "        mean[i] = round(clicked[i]/shown[i], 3)\n",
    "        \n",
    "        # formula for delta and upper confidence bound from \n",
    "        #https://analyticsindiamag.com/reinforcement-learning-the-concept-behind-ucb-explained-with-code/\n",
    "        sd[i] = round (np.sqrt(1.5 * np.log(nrounds+1)/ shown[i]), 3)\n",
    "        \n",
    "    ucb = mean + sd\n",
    "    \n",
    "    return (ucb)"
   ]
  },
  {
   "cell_type": "code",
   "execution_count": 21,
   "metadata": {
    "id": "4w6Ackeq96eB",
    "outputId": "4c42b866-4f5a-49c2-a17b-10362bab9e47"
   },
   "outputs": [
    {
     "name": "stdout",
     "output_type": "stream",
     "text": [
      "no of ads for testing are 5\n",
      "no of ads shown per day are 1000\n",
      "exploration happens for 20.0% of time\n",
      "no of times each ad is shown is [0. 0. 0. 0. 0.]\n",
      "no of times each ad is clicked is [0. 0. 0. 0. 0.]\n",
      "initial upper confidence bound array is [0. 0. 0. 0. 0.]\n"
     ]
    }
   ],
   "source": [
    "ab, cd, ef, gh = dynamiclearning(5000)"
   ]
  },
  {
   "cell_type": "code",
   "execution_count": 6,
   "metadata": {
    "id": "noNVENNJ96eA"
   },
   "outputs": [],
   "source": [
    "def dynamiclearning(nrounds):\n",
    "    '''\n",
    "    show ads and learn from changing click through rates\n",
    "    '''\n",
    "    #parameters\n",
    "    \n",
    "    #1. no of ads to be shown\n",
    "    nads = 5 #if you change this, change the array size in probs function\n",
    "    print ('no of ads for testing are {}'.format(nads))\n",
    "    \n",
    "    adsperday = 1000\n",
    "    print ('no of ads shown per day are {}'.format(adsperday))\n",
    "    \n",
    "    #2. exploration threshold\n",
    "    thresh = 0.2  #20% exploration and 80% exploitation\n",
    "    print ('exploration happens for {}% of time'.format(thresh*100))\n",
    "    #exploration \n",
    "    \n",
    "    # part 1:\n",
    "    # initialize arrays for counting\n",
    "    shown = np.zeros(nads)\n",
    "    print ('no of times each ad is shown is {}'.format(shown))\n",
    "    clicked = np.zeros(nads)\n",
    "    print ('no of times each ad is clicked is {}'.format(clicked))\n",
    "    \n",
    "    ucb = np.zeros(nads)\n",
    "    print ('initial upper confidence bound array is {}'.format(ucb))\n",
    "    \n",
    "    # lists for prediction\n",
    "    ucbl = []\n",
    "    shownl = []\n",
    "    clickedl = []\n",
    "    actuall = []\n",
    "    \n",
    "    #loop over rounds / days\n",
    "    for nr in range(nrounds):\n",
    "        \n",
    "        # loop over ads shown in a day\n",
    "        for count in range(adsperday):\n",
    "            #print (count)\n",
    "            \n",
    "            # part 2: choose exploration vs. exploitation\n",
    "            # if exploration, choose random ad, else, choose best ad based on ucb\n",
    "            if (np.random.random() < thresh):\n",
    "                chosenad = np.random.randint(5)\n",
    "            else:\n",
    "                chosenad = np.argmax(ucb)\n",
    "            \n",
    "            #increment the ad shown count\n",
    "            shown[chosenad] += 1\n",
    "            \n",
    "            #part 3:\n",
    "            # for the ad chosen, get adprobs for nround and check if ad is clicked or not\n",
    "            #update adshown, adclicked, ucb matrices\n",
    "            adp = probs(nr)\n",
    "            if (np.random.random() < adp[chosenad]):\n",
    "                # ad is clicked\n",
    "                clicked[chosenad] += 1\n",
    "                #else, ad is not clicked\n",
    "    \n",
    "        # exiting inner lopp\n",
    "        shownl.append(list(shown))\n",
    "        clickedl.append(list(clicked))\n",
    "\n",
    "        #part 4: compute ucb\n",
    "        ucb = computeucb(shown, clicked)\n",
    "        ucbl.append(list(ucb))\n",
    "    \n",
    "        act = probs(nr)\n",
    "        actuall.append(act)        \n",
    "        \n",
    "    #cast them as dataframe for passing out of function\n",
    "    showndf = pd.DataFrame(shownl)\n",
    "    clickeddf = pd.DataFrame(clickedl)\n",
    "    ucbdf = pd.DataFrame(ucbl)\n",
    "    actualdf = pd.DataFrame(actuall)\n",
    "    \n",
    "    return (showndf, clickeddf, ucbdf, actualdf)"
   ]
  },
  {
   "cell_type": "code",
   "execution_count": 58,
   "metadata": {},
   "outputs": [
    {
     "name": "stdout",
     "output_type": "stream",
     "text": [
      "no of ads for testing are 5\n",
      "no of ads shown per day are 1000\n",
      "exploration happens for 20.0% of time\n",
      "no of times each ad is shown is [0. 0. 0. 0. 0.]\n",
      "no of times each ad is clicked is [0. 0. 0. 0. 0.]\n",
      "initial upper confidence bound array is [0. 0. 0. 0. 0.]\n"
     ]
    }
   ],
   "source": [
    "ab1, cd1, ef1, gh1 = dynamiclearning(5000)"
   ]
  },
  {
   "cell_type": "code",
   "execution_count": 99,
   "metadata": {},
   "outputs": [],
   "source": [
    "def label(ab1, cd1, ef1, gh1):\n",
    "    \n",
    "    ab = ab1.copy()\n",
    "    cd = cd1.copy()\n",
    "    ef = ef1.copy()\n",
    "    gh = gh1.copy()\n",
    "    \n",
    "    # Process shown ads\n",
    "    ab.index.names = ['Day Count']\n",
    "    ab.columns = ['Ad 1 shown', 'Ad 2 shown', 'Ad 3 shown', 'Ad 4 shown', 'Ad 5 shown']\n",
    "    ab[\"Total Ads shown till that day\"] = ab.sum(axis=1)\n",
    "    \n",
    "    #process clicked ads\n",
    "    cd.index.names = ['Day Count']\n",
    "    cd.columns = ['Ad 1 clicked', 'Ad 2 clicked', 'Ad 3 clicked', 'Ad 4 clicked', 'Ad 5 clicked']\n",
    "    cd[\"Total Ads clicked till that day\"] = cd.sum(axis=1)\n",
    "    \n",
    "    #process UCB estimate\n",
    "    ef.index.names = ['Day Count']\n",
    "    ef.columns = ['UCB est for Ad 1','UCB est for Ad 2','UCB est for Ad 3','UCB est for Ad 4','UCB est for Ad 5']\n",
    "    \n",
    "    gh.index.names = ['Day Count']\n",
    "    gh.columns = ['Actual CTR Ad 1','Actual CTR Ad 2','Actual CTR Ad 3','Actual CTR Ad 4','Actual CTR Ad 5']\n",
    "    \n",
    "    \n",
    "    return (ab, cd, ef, gh)"
   ]
  },
  {
   "cell_type": "code",
   "execution_count": 100,
   "metadata": {},
   "outputs": [],
   "source": [
    "# small function to add labels to dataframes\n",
    "ab, cd, ef, gh = label(ab1, cd1, ef1, gh1)"
   ]
  },
  {
   "cell_type": "code",
   "execution_count": 101,
   "metadata": {
    "id": "lciiWY3q96eB",
    "outputId": "d42646b3-40fb-48ce-abee-4f1762f21f49"
   },
   "outputs": [
    {
     "data": {
      "text/html": [
       "<div>\n",
       "<style scoped>\n",
       "    .dataframe tbody tr th:only-of-type {\n",
       "        vertical-align: middle;\n",
       "    }\n",
       "\n",
       "    .dataframe tbody tr th {\n",
       "        vertical-align: top;\n",
       "    }\n",
       "\n",
       "    .dataframe thead th {\n",
       "        text-align: right;\n",
       "    }\n",
       "</style>\n",
       "<table border=\"1\" class=\"dataframe\">\n",
       "  <thead>\n",
       "    <tr style=\"text-align: right;\">\n",
       "      <th></th>\n",
       "      <th>Ad 1 shown</th>\n",
       "      <th>Ad 2 shown</th>\n",
       "      <th>Ad 3 shown</th>\n",
       "      <th>Ad 4 shown</th>\n",
       "      <th>Ad 5 shown</th>\n",
       "      <th>Total Ads shown till that day</th>\n",
       "    </tr>\n",
       "    <tr>\n",
       "      <th>Day Count</th>\n",
       "      <th></th>\n",
       "      <th></th>\n",
       "      <th></th>\n",
       "      <th></th>\n",
       "      <th></th>\n",
       "      <th></th>\n",
       "    </tr>\n",
       "  </thead>\n",
       "  <tbody>\n",
       "    <tr>\n",
       "      <th>0</th>\n",
       "      <td>847.0</td>\n",
       "      <td>43.0</td>\n",
       "      <td>47.0</td>\n",
       "      <td>31.0</td>\n",
       "      <td>32.0</td>\n",
       "      <td>1000.0</td>\n",
       "    </tr>\n",
       "    <tr>\n",
       "      <th>1</th>\n",
       "      <td>890.0</td>\n",
       "      <td>86.0</td>\n",
       "      <td>85.0</td>\n",
       "      <td>872.0</td>\n",
       "      <td>67.0</td>\n",
       "      <td>2000.0</td>\n",
       "    </tr>\n",
       "    <tr>\n",
       "      <th>2</th>\n",
       "      <td>925.0</td>\n",
       "      <td>134.0</td>\n",
       "      <td>924.0</td>\n",
       "      <td>914.0</td>\n",
       "      <td>103.0</td>\n",
       "      <td>3000.0</td>\n",
       "    </tr>\n",
       "    <tr>\n",
       "      <th>3</th>\n",
       "      <td>965.0</td>\n",
       "      <td>163.0</td>\n",
       "      <td>962.0</td>\n",
       "      <td>942.0</td>\n",
       "      <td>968.0</td>\n",
       "      <td>4000.0</td>\n",
       "    </tr>\n",
       "    <tr>\n",
       "      <th>4</th>\n",
       "      <td>1003.0</td>\n",
       "      <td>213.0</td>\n",
       "      <td>1788.0</td>\n",
       "      <td>985.0</td>\n",
       "      <td>1011.0</td>\n",
       "      <td>5000.0</td>\n",
       "    </tr>\n",
       "  </tbody>\n",
       "</table>\n",
       "</div>"
      ],
      "text/plain": [
       "           Ad 1 shown  Ad 2 shown  Ad 3 shown  Ad 4 shown  Ad 5 shown  \\\n",
       "Day Count                                                               \n",
       "0               847.0        43.0        47.0        31.0        32.0   \n",
       "1               890.0        86.0        85.0       872.0        67.0   \n",
       "2               925.0       134.0       924.0       914.0       103.0   \n",
       "3               965.0       163.0       962.0       942.0       968.0   \n",
       "4              1003.0       213.0      1788.0       985.0      1011.0   \n",
       "\n",
       "           Total Ads shown till that day  \n",
       "Day Count                                 \n",
       "0                                 1000.0  \n",
       "1                                 2000.0  \n",
       "2                                 3000.0  \n",
       "3                                 4000.0  \n",
       "4                                 5000.0  "
      ]
     },
     "execution_count": 101,
     "metadata": {},
     "output_type": "execute_result"
    }
   ],
   "source": [
    "ab.head()\n"
   ]
  },
  {
   "cell_type": "code",
   "execution_count": 102,
   "metadata": {
    "id": "w2QhbCT196eC",
    "outputId": "170d142f-b29b-49c4-b459-57af39ba5872"
   },
   "outputs": [
    {
     "data": {
      "text/html": [
       "<div>\n",
       "<style scoped>\n",
       "    .dataframe tbody tr th:only-of-type {\n",
       "        vertical-align: middle;\n",
       "    }\n",
       "\n",
       "    .dataframe tbody tr th {\n",
       "        vertical-align: top;\n",
       "    }\n",
       "\n",
       "    .dataframe thead th {\n",
       "        text-align: right;\n",
       "    }\n",
       "</style>\n",
       "<table border=\"1\" class=\"dataframe\">\n",
       "  <thead>\n",
       "    <tr style=\"text-align: right;\">\n",
       "      <th></th>\n",
       "      <th>Ad 1 clicked</th>\n",
       "      <th>Ad 2 clicked</th>\n",
       "      <th>Ad 3 clicked</th>\n",
       "      <th>Ad 4 clicked</th>\n",
       "      <th>Ad 5 clicked</th>\n",
       "      <th>Total Ads clicked till that day</th>\n",
       "    </tr>\n",
       "    <tr>\n",
       "      <th>Day Count</th>\n",
       "      <th></th>\n",
       "      <th></th>\n",
       "      <th></th>\n",
       "      <th></th>\n",
       "      <th></th>\n",
       "      <th></th>\n",
       "    </tr>\n",
       "  </thead>\n",
       "  <tbody>\n",
       "    <tr>\n",
       "      <th>0</th>\n",
       "      <td>10.0</td>\n",
       "      <td>1.0</td>\n",
       "      <td>9.0</td>\n",
       "      <td>5.0</td>\n",
       "      <td>0.0</td>\n",
       "      <td>25.0</td>\n",
       "    </tr>\n",
       "    <tr>\n",
       "      <th>1</th>\n",
       "      <td>10.0</td>\n",
       "      <td>1.0</td>\n",
       "      <td>19.0</td>\n",
       "      <td>170.0</td>\n",
       "      <td>2.0</td>\n",
       "      <td>202.0</td>\n",
       "    </tr>\n",
       "    <tr>\n",
       "      <th>2</th>\n",
       "      <td>12.0</td>\n",
       "      <td>1.0</td>\n",
       "      <td>233.0</td>\n",
       "      <td>177.0</td>\n",
       "      <td>5.0</td>\n",
       "      <td>428.0</td>\n",
       "    </tr>\n",
       "    <tr>\n",
       "      <th>3</th>\n",
       "      <td>12.0</td>\n",
       "      <td>1.0</td>\n",
       "      <td>247.0</td>\n",
       "      <td>183.0</td>\n",
       "      <td>52.0</td>\n",
       "      <td>495.0</td>\n",
       "    </tr>\n",
       "    <tr>\n",
       "      <th>4</th>\n",
       "      <td>12.0</td>\n",
       "      <td>1.0</td>\n",
       "      <td>457.0</td>\n",
       "      <td>189.0</td>\n",
       "      <td>55.0</td>\n",
       "      <td>714.0</td>\n",
       "    </tr>\n",
       "  </tbody>\n",
       "</table>\n",
       "</div>"
      ],
      "text/plain": [
       "           Ad 1 clicked  Ad 2 clicked  Ad 3 clicked  Ad 4 clicked  \\\n",
       "Day Count                                                           \n",
       "0                  10.0           1.0           9.0           5.0   \n",
       "1                  10.0           1.0          19.0         170.0   \n",
       "2                  12.0           1.0         233.0         177.0   \n",
       "3                  12.0           1.0         247.0         183.0   \n",
       "4                  12.0           1.0         457.0         189.0   \n",
       "\n",
       "           Ad 5 clicked  Total Ads clicked till that day  \n",
       "Day Count                                                 \n",
       "0                   0.0                             25.0  \n",
       "1                   2.0                            202.0  \n",
       "2                   5.0                            428.0  \n",
       "3                  52.0                            495.0  \n",
       "4                  55.0                            714.0  "
      ]
     },
     "execution_count": 102,
     "metadata": {},
     "output_type": "execute_result"
    }
   ],
   "source": [
    "cd.head()"
   ]
  },
  {
   "cell_type": "code",
   "execution_count": 103,
   "metadata": {
    "id": "VuiJV8sA96eC",
    "outputId": "6a1eeca2-5dda-4412-f75d-a1014b509c95"
   },
   "outputs": [
    {
     "data": {
      "text/html": [
       "<div>\n",
       "<style scoped>\n",
       "    .dataframe tbody tr th:only-of-type {\n",
       "        vertical-align: middle;\n",
       "    }\n",
       "\n",
       "    .dataframe tbody tr th {\n",
       "        vertical-align: top;\n",
       "    }\n",
       "\n",
       "    .dataframe thead th {\n",
       "        text-align: right;\n",
       "    }\n",
       "</style>\n",
       "<table border=\"1\" class=\"dataframe\">\n",
       "  <thead>\n",
       "    <tr style=\"text-align: right;\">\n",
       "      <th></th>\n",
       "      <th>UCB est for Ad 1</th>\n",
       "      <th>UCB est for Ad 2</th>\n",
       "      <th>UCB est for Ad 3</th>\n",
       "      <th>UCB est for Ad 4</th>\n",
       "      <th>UCB est for Ad 5</th>\n",
       "    </tr>\n",
       "    <tr>\n",
       "      <th>Day Count</th>\n",
       "      <th></th>\n",
       "      <th></th>\n",
       "      <th></th>\n",
       "      <th></th>\n",
       "      <th></th>\n",
       "    </tr>\n",
       "  </thead>\n",
       "  <tbody>\n",
       "    <tr>\n",
       "      <th>0</th>\n",
       "      <td>0.123</td>\n",
       "      <td>0.514</td>\n",
       "      <td>0.661</td>\n",
       "      <td>0.739</td>\n",
       "      <td>0.569</td>\n",
       "    </tr>\n",
       "    <tr>\n",
       "      <th>1</th>\n",
       "      <td>0.124</td>\n",
       "      <td>0.376</td>\n",
       "      <td>0.590</td>\n",
       "      <td>0.309</td>\n",
       "      <td>0.443</td>\n",
       "    </tr>\n",
       "    <tr>\n",
       "      <th>2</th>\n",
       "      <td>0.127</td>\n",
       "      <td>0.306</td>\n",
       "      <td>0.366</td>\n",
       "      <td>0.309</td>\n",
       "      <td>0.390</td>\n",
       "    </tr>\n",
       "    <tr>\n",
       "      <th>3</th>\n",
       "      <td>0.126</td>\n",
       "      <td>0.282</td>\n",
       "      <td>0.371</td>\n",
       "      <td>0.309</td>\n",
       "      <td>0.167</td>\n",
       "    </tr>\n",
       "    <tr>\n",
       "      <th>4</th>\n",
       "      <td>0.125</td>\n",
       "      <td>0.250</td>\n",
       "      <td>0.341</td>\n",
       "      <td>0.306</td>\n",
       "      <td>0.166</td>\n",
       "    </tr>\n",
       "  </tbody>\n",
       "</table>\n",
       "</div>"
      ],
      "text/plain": [
       "           UCB est for Ad 1  UCB est for Ad 2  UCB est for Ad 3  \\\n",
       "Day Count                                                         \n",
       "0                     0.123             0.514             0.661   \n",
       "1                     0.124             0.376             0.590   \n",
       "2                     0.127             0.306             0.366   \n",
       "3                     0.126             0.282             0.371   \n",
       "4                     0.125             0.250             0.341   \n",
       "\n",
       "           UCB est for Ad 4  UCB est for Ad 5  \n",
       "Day Count                                      \n",
       "0                     0.739             0.569  \n",
       "1                     0.309             0.443  \n",
       "2                     0.309             0.390  \n",
       "3                     0.309             0.167  \n",
       "4                     0.306             0.166  "
      ]
     },
     "execution_count": 103,
     "metadata": {},
     "output_type": "execute_result"
    }
   ],
   "source": [
    "ef.head()"
   ]
  },
  {
   "cell_type": "code",
   "execution_count": 104,
   "metadata": {
    "id": "WE_nvAoJ96eD",
    "outputId": "b1660589-559f-4fc7-b606-b117e47bf994"
   },
   "outputs": [
    {
     "data": {
      "text/html": [
       "<div>\n",
       "<style scoped>\n",
       "    .dataframe tbody tr th:only-of-type {\n",
       "        vertical-align: middle;\n",
       "    }\n",
       "\n",
       "    .dataframe tbody tr th {\n",
       "        vertical-align: top;\n",
       "    }\n",
       "\n",
       "    .dataframe thead th {\n",
       "        text-align: right;\n",
       "    }\n",
       "</style>\n",
       "<table border=\"1\" class=\"dataframe\">\n",
       "  <thead>\n",
       "    <tr style=\"text-align: right;\">\n",
       "      <th></th>\n",
       "      <th>Actual CTR Ad 1</th>\n",
       "      <th>Actual CTR Ad 2</th>\n",
       "      <th>Actual CTR Ad 3</th>\n",
       "      <th>Actual CTR Ad 4</th>\n",
       "      <th>Actual CTR Ad 5</th>\n",
       "    </tr>\n",
       "    <tr>\n",
       "      <th>Day Count</th>\n",
       "      <th></th>\n",
       "      <th></th>\n",
       "      <th></th>\n",
       "      <th></th>\n",
       "      <th></th>\n",
       "    </tr>\n",
       "  </thead>\n",
       "  <tbody>\n",
       "    <tr>\n",
       "      <th>0</th>\n",
       "      <td>0.01</td>\n",
       "      <td>0.015</td>\n",
       "      <td>0.25</td>\n",
       "      <td>0.18</td>\n",
       "      <td>0.05</td>\n",
       "    </tr>\n",
       "    <tr>\n",
       "      <th>1</th>\n",
       "      <td>0.01</td>\n",
       "      <td>0.015</td>\n",
       "      <td>0.25</td>\n",
       "      <td>0.18</td>\n",
       "      <td>0.05</td>\n",
       "    </tr>\n",
       "    <tr>\n",
       "      <th>2</th>\n",
       "      <td>0.01</td>\n",
       "      <td>0.015</td>\n",
       "      <td>0.25</td>\n",
       "      <td>0.18</td>\n",
       "      <td>0.05</td>\n",
       "    </tr>\n",
       "    <tr>\n",
       "      <th>3</th>\n",
       "      <td>0.01</td>\n",
       "      <td>0.015</td>\n",
       "      <td>0.25</td>\n",
       "      <td>0.18</td>\n",
       "      <td>0.05</td>\n",
       "    </tr>\n",
       "    <tr>\n",
       "      <th>4</th>\n",
       "      <td>0.01</td>\n",
       "      <td>0.015</td>\n",
       "      <td>0.25</td>\n",
       "      <td>0.18</td>\n",
       "      <td>0.05</td>\n",
       "    </tr>\n",
       "  </tbody>\n",
       "</table>\n",
       "</div>"
      ],
      "text/plain": [
       "           Actual CTR Ad 1  Actual CTR Ad 2  Actual CTR Ad 3  Actual CTR Ad 4  \\\n",
       "Day Count                                                                       \n",
       "0                     0.01            0.015             0.25             0.18   \n",
       "1                     0.01            0.015             0.25             0.18   \n",
       "2                     0.01            0.015             0.25             0.18   \n",
       "3                     0.01            0.015             0.25             0.18   \n",
       "4                     0.01            0.015             0.25             0.18   \n",
       "\n",
       "           Actual CTR Ad 5  \n",
       "Day Count                   \n",
       "0                     0.05  \n",
       "1                     0.05  \n",
       "2                     0.05  \n",
       "3                     0.05  \n",
       "4                     0.05  "
      ]
     },
     "execution_count": 104,
     "metadata": {},
     "output_type": "execute_result"
    }
   ],
   "source": [
    "gh.head()"
   ]
  },
  {
   "cell_type": "markdown",
   "metadata": {
    "id": "OBlsk65w96eD"
   },
   "source": [
    "# Testing the outcomes"
   ]
  },
  {
   "cell_type": "markdown",
   "metadata": {},
   "source": [
    "Data has been prepred in such a way that Ad 4 CTR increases and Ad 3 CTR decreases after a fixed date.\n",
    "The intention is to check if Multi Armed Bandit RL model is able to capture that behaviour or not."
   ]
  },
  {
   "cell_type": "code",
   "execution_count": 107,
   "metadata": {
    "id": "8IadQ7d996eD",
    "outputId": "c6d2a283-fb71-467e-d1d9-a07cf07053d6"
   },
   "outputs": [
    {
     "data": {
      "text/plain": [
       "Text(0, 0.5, 'Overall CTR')"
      ]
     },
     "execution_count": 107,
     "metadata": {},
     "output_type": "execute_result"
    },
    {
     "data": {
      "image/png": "[encoded data removed]",
      "text/plain": [
       "<Figure size 432x288 with 1 Axes>"
      ]
     },
     "metadata": {
      "needs_background": "light"
     },
     "output_type": "display_data"
    }
   ],
   "source": [
    "#overall click through rate\n",
    "plt.title('Overall Clickthrough Rate')\n",
    "plt.plot(cd['Total Ads clicked till that day']/ab['Total Ads shown till that day'])\n",
    "plt.plot(gh['Actual CTR Ad 3'])\n",
    "plt.plot(gh['Actual CTR Ad 4'])\n",
    "plt.legend(['Measured overall CTR', 'Ad 3 actual CTR', 'Ad 4 actual CTR'])\n",
    "plt.xlabel('Day count')\n",
    "plt.ylabel('Overall CTR')"
   ]
  },
  {
   "cell_type": "code",
   "execution_count": 108,
   "metadata": {
    "id": "xo4F65nS96eD",
    "outputId": "a9475efa-06eb-452f-d2b8-ca4369933145"
   },
   "outputs": [
    {
     "data": {
      "text/plain": [
       "<matplotlib.legend.Legend at 0x7fe330cb2340>"
      ]
     },
     "execution_count": 108,
     "metadata": {},
     "output_type": "execute_result"
    },
    {
     "data": {
      "image/png": "[encoded data removed]",
      "text/plain": [
       "<Figure size 432x288 with 1 Axes>"
      ]
     },
     "metadata": {
      "needs_background": "light"
     },
     "output_type": "display_data"
    }
   ],
   "source": [
    "# no of times most popular ad is picked up\n",
    "plt.plot(ab['Ad 3 shown']/ab['Total Ads shown till that day'])\n",
    "plt.plot(ab['Ad 4 shown']/ab['Total Ads shown till that day'])\n",
    "plt.xlabel('Day Count')\n",
    "plt.ylabel('Percent of ads shown on that day')\n",
    "plt.title('Daily Ad Picking')\n",
    "plt.legend(['Ad 3', 'Ad 4'])"
   ]
  },
  {
   "cell_type": "code",
   "execution_count": 109,
   "metadata": {
    "id": "EJ_IBiR_96eD",
    "outputId": "4344c2bf-6a81-478c-e273-2c336193c06c"
   },
   "outputs": [
    {
     "data": {
      "text/plain": [
       "<matplotlib.legend.Legend at 0x7fe330b01190>"
      ]
     },
     "execution_count": 109,
     "metadata": {},
     "output_type": "execute_result"
    },
    {
     "data": {
      "image/png": "[encoded data removed]",
      "text/plain": [
       "<Figure size 432x288 with 1 Axes>"
      ]
     },
     "metadata": {
      "needs_background": "light"
     },
     "output_type": "display_data"
    }
   ],
   "source": [
    "# no of times other ads are picked up\n",
    "plt.plot(ab['Ad 1 shown']/ab['Total Ads shown till that day'])\n",
    "plt.plot(ab['Ad 2 shown']/ab['Total Ads shown till that day'])\n",
    "plt.plot(ab['Ad 5 shown']/ab['Total Ads shown till that day'])\n",
    "plt.xlabel('Day Count')\n",
    "plt.ylabel('Percent of ads shown on that day')\n",
    "plt.title('Daily Ad Picking')\n",
    "plt.legend(['Ad 1', 'Ad 2', 'Ad 5'])"
   ]
  },
  {
   "cell_type": "code",
   "execution_count": 110,
   "metadata": {
    "id": "UWg84MC896eE",
    "outputId": "18bca57c-87e5-45cc-838d-cac8ab7773a0"
   },
   "outputs": [
    {
     "data": {
      "text/plain": [
       "<matplotlib.legend.Legend at 0x7fe330a50f70>"
      ]
     },
     "execution_count": 110,
     "metadata": {},
     "output_type": "execute_result"
    },
    {
     "data": {
      "image/png": "[encoded data removed]",
      "text/plain": [
       "<Figure size 432x288 with 1 Axes>"
      ]
     },
     "metadata": {
      "needs_background": "light"
     },
     "output_type": "display_data"
    }
   ],
   "source": [
    "plt.title('UCB for ad 3')\n",
    "plt.plot(ef['UCB est for Ad 3'])\n",
    "plt.plot(gh['Actual CTR Ad 3'])\n",
    "plt.xlabel('Day count')\n",
    "plt.ylabel('CTR')\n",
    "plt.legend(['computed', 'truth'])"
   ]
  },
  {
   "cell_type": "code",
   "execution_count": 111,
   "metadata": {
    "id": "G9Rv05zj96eE",
    "outputId": "c1a393b9-6c4b-4a2c-e0ab-92fae9773d96"
   },
   "outputs": [
    {
     "data": {
      "text/plain": [
       "<matplotlib.legend.Legend at 0x7fe330a84af0>"
      ]
     },
     "execution_count": 111,
     "metadata": {},
     "output_type": "execute_result"
    },
    {
     "data": {
      "image/png": "[encoded data removed]",
      "text/plain": [
       "<Figure size 432x288 with 1 Axes>"
      ]
     },
     "metadata": {
      "needs_background": "light"
     },
     "output_type": "display_data"
    }
   ],
   "source": [
    "plt.title('UCB for ad 4')\n",
    "plt.plot(ef['UCB est for Ad 4'])\n",
    "plt.plot(gh['Actual CTR Ad 4'])\n",
    "plt.xlabel('Day count')\n",
    "plt.ylabel('CTR')\n",
    "plt.legend(['computed', 'truth'])"
   ]
  },
  {
   "cell_type": "code",
   "execution_count": null,
   "metadata": {
    "id": "YO1zuo6o96eE",
    "outputId": "8b0f0c84-bdac-49b3-bd26-2f8091ad413f"
   },
   "outputs": [
    {
     "data": {
      "text/html": [
       "<div>\n",
       "<style scoped>\n",
       "    .dataframe tbody tr th:only-of-type {\n",
       "        vertical-align: middle;\n",
       "    }\n",
       "\n",
       "    .dataframe tbody tr th {\n",
       "        vertical-align: top;\n",
       "    }\n",
       "\n",
       "    .dataframe thead th {\n",
       "        text-align: right;\n",
       "    }\n",
       "</style>\n",
       "<table border=\"1\" class=\"dataframe\">\n",
       "  <thead>\n",
       "    <tr style=\"text-align: right;\">\n",
       "      <th></th>\n",
       "      <th>0</th>\n",
       "      <th>1</th>\n",
       "      <th>2</th>\n",
       "      <th>3</th>\n",
       "      <th>4</th>\n",
       "      <th>sum</th>\n",
       "    </tr>\n",
       "  </thead>\n",
       "  <tbody>\n",
       "    <tr>\n",
       "      <th>0</th>\n",
       "      <td>839.0</td>\n",
       "      <td>44.0</td>\n",
       "      <td>36.0</td>\n",
       "      <td>42.0</td>\n",
       "      <td>39.0</td>\n",
       "      <td>1000.0</td>\n",
       "    </tr>\n",
       "    <tr>\n",
       "      <th>1</th>\n",
       "      <td>894.0</td>\n",
       "      <td>65.0</td>\n",
       "      <td>897.0</td>\n",
       "      <td>73.0</td>\n",
       "      <td>71.0</td>\n",
       "      <td>2000.0</td>\n",
       "    </tr>\n",
       "    <tr>\n",
       "      <th>2</th>\n",
       "      <td>930.0</td>\n",
       "      <td>123.0</td>\n",
       "      <td>934.0</td>\n",
       "      <td>899.0</td>\n",
       "      <td>114.0</td>\n",
       "      <td>3000.0</td>\n",
       "    </tr>\n",
       "    <tr>\n",
       "      <th>3</th>\n",
       "      <td>978.0</td>\n",
       "      <td>160.0</td>\n",
       "      <td>962.0</td>\n",
       "      <td>932.0</td>\n",
       "      <td>968.0</td>\n",
       "      <td>4000.0</td>\n",
       "    </tr>\n",
       "    <tr>\n",
       "      <th>4</th>\n",
       "      <td>1021.0</td>\n",
       "      <td>196.0</td>\n",
       "      <td>1814.0</td>\n",
       "      <td>968.0</td>\n",
       "      <td>1001.0</td>\n",
       "      <td>5000.0</td>\n",
       "    </tr>\n",
       "  </tbody>\n",
       "</table>\n",
       "</div>"
      ],
      "text/plain": [
       "        0      1       2      3       4     sum\n",
       "0   839.0   44.0    36.0   42.0    39.0  1000.0\n",
       "1   894.0   65.0   897.0   73.0    71.0  2000.0\n",
       "2   930.0  123.0   934.0  899.0   114.0  3000.0\n",
       "3   978.0  160.0   962.0  932.0   968.0  4000.0\n",
       "4  1021.0  196.0  1814.0  968.0  1001.0  5000.0"
      ]
     },
     "execution_count": 21,
     "metadata": {
      "tags": []
     },
     "output_type": "execute_result"
    }
   ],
   "source": [
    "ab.head()"
   ]
  },
  {
   "cell_type": "code",
   "execution_count": 112,
   "metadata": {
    "id": "13GwKZiv96eE"
   },
   "outputs": [],
   "source": [
    "ab['Ad3diff'] = ab['Ad 3 shown'].diff()\n",
    "ab['Ad4diff'] = ab['Ad 4 shown'].diff()\n",
    "ab['TotalDiff'] = ab['Total Ads shown till that day'].diff()"
   ]
  },
  {
   "cell_type": "code",
   "execution_count": 113,
   "metadata": {
    "id": "Qjh8XD1U96eF",
    "outputId": "73e003e3-4397-4ac1-b25c-8fabbaafd9ef"
   },
   "outputs": [
    {
     "data": {
      "text/html": [
       "<div>\n",
       "<style scoped>\n",
       "    .dataframe tbody tr th:only-of-type {\n",
       "        vertical-align: middle;\n",
       "    }\n",
       "\n",
       "    .dataframe tbody tr th {\n",
       "        vertical-align: top;\n",
       "    }\n",
       "\n",
       "    .dataframe thead th {\n",
       "        text-align: right;\n",
       "    }\n",
       "</style>\n",
       "<table border=\"1\" class=\"dataframe\">\n",
       "  <thead>\n",
       "    <tr style=\"text-align: right;\">\n",
       "      <th></th>\n",
       "      <th>Ad 1 shown</th>\n",
       "      <th>Ad 2 shown</th>\n",
       "      <th>Ad 3 shown</th>\n",
       "      <th>Ad 4 shown</th>\n",
       "      <th>Ad 5 shown</th>\n",
       "      <th>Total Ads shown till that day</th>\n",
       "      <th>Ad3diff</th>\n",
       "      <th>Ad4diff</th>\n",
       "      <th>TotalDiff</th>\n",
       "    </tr>\n",
       "    <tr>\n",
       "      <th>Day Count</th>\n",
       "      <th></th>\n",
       "      <th></th>\n",
       "      <th></th>\n",
       "      <th></th>\n",
       "      <th></th>\n",
       "      <th></th>\n",
       "      <th></th>\n",
       "      <th></th>\n",
       "      <th></th>\n",
       "    </tr>\n",
       "  </thead>\n",
       "  <tbody>\n",
       "    <tr>\n",
       "      <th>0</th>\n",
       "      <td>847.0</td>\n",
       "      <td>43.0</td>\n",
       "      <td>47.0</td>\n",
       "      <td>31.0</td>\n",
       "      <td>32.0</td>\n",
       "      <td>1000.0</td>\n",
       "      <td>NaN</td>\n",
       "      <td>NaN</td>\n",
       "      <td>NaN</td>\n",
       "    </tr>\n",
       "    <tr>\n",
       "      <th>1</th>\n",
       "      <td>890.0</td>\n",
       "      <td>86.0</td>\n",
       "      <td>85.0</td>\n",
       "      <td>872.0</td>\n",
       "      <td>67.0</td>\n",
       "      <td>2000.0</td>\n",
       "      <td>38.0</td>\n",
       "      <td>841.0</td>\n",
       "      <td>1000.0</td>\n",
       "    </tr>\n",
       "    <tr>\n",
       "      <th>2</th>\n",
       "      <td>925.0</td>\n",
       "      <td>134.0</td>\n",
       "      <td>924.0</td>\n",
       "      <td>914.0</td>\n",
       "      <td>103.0</td>\n",
       "      <td>3000.0</td>\n",
       "      <td>839.0</td>\n",
       "      <td>42.0</td>\n",
       "      <td>1000.0</td>\n",
       "    </tr>\n",
       "    <tr>\n",
       "      <th>3</th>\n",
       "      <td>965.0</td>\n",
       "      <td>163.0</td>\n",
       "      <td>962.0</td>\n",
       "      <td>942.0</td>\n",
       "      <td>968.0</td>\n",
       "      <td>4000.0</td>\n",
       "      <td>38.0</td>\n",
       "      <td>28.0</td>\n",
       "      <td>1000.0</td>\n",
       "    </tr>\n",
       "    <tr>\n",
       "      <th>4</th>\n",
       "      <td>1003.0</td>\n",
       "      <td>213.0</td>\n",
       "      <td>1788.0</td>\n",
       "      <td>985.0</td>\n",
       "      <td>1011.0</td>\n",
       "      <td>5000.0</td>\n",
       "      <td>826.0</td>\n",
       "      <td>43.0</td>\n",
       "      <td>1000.0</td>\n",
       "    </tr>\n",
       "  </tbody>\n",
       "</table>\n",
       "</div>"
      ],
      "text/plain": [
       "           Ad 1 shown  Ad 2 shown  Ad 3 shown  Ad 4 shown  Ad 5 shown  \\\n",
       "Day Count                                                               \n",
       "0               847.0        43.0        47.0        31.0        32.0   \n",
       "1               890.0        86.0        85.0       872.0        67.0   \n",
       "2               925.0       134.0       924.0       914.0       103.0   \n",
       "3               965.0       163.0       962.0       942.0       968.0   \n",
       "4              1003.0       213.0      1788.0       985.0      1011.0   \n",
       "\n",
       "           Total Ads shown till that day  Ad3diff  Ad4diff  TotalDiff  \n",
       "Day Count                                                              \n",
       "0                                 1000.0      NaN      NaN        NaN  \n",
       "1                                 2000.0     38.0    841.0     1000.0  \n",
       "2                                 3000.0    839.0     42.0     1000.0  \n",
       "3                                 4000.0     38.0     28.0     1000.0  \n",
       "4                                 5000.0    826.0     43.0     1000.0  "
      ]
     },
     "execution_count": 113,
     "metadata": {},
     "output_type": "execute_result"
    }
   ],
   "source": [
    "ab.head()"
   ]
  },
  {
   "cell_type": "code",
   "execution_count": 119,
   "metadata": {
    "id": "9GAN7FpC96eF",
    "outputId": "640dd817-f832-4a55-b561-099cf7168b60"
   },
   "outputs": [
    {
     "data": {
      "text/plain": [
       "<matplotlib.legend.Legend at 0x7fe330847fd0>"
      ]
     },
     "execution_count": 119,
     "metadata": {},
     "output_type": "execute_result"
    },
    {
     "data": {
      "image/png": "[encoded data removed]",
      "text/plain": [
       "<Figure size 432x288 with 1 Axes>"
      ]
     },
     "metadata": {
      "needs_background": "light"
     },
     "output_type": "display_data"
    }
   ],
   "source": [
    "plt.plot(ab['Ad3diff']/ab['TotalDiff'])\n",
    "plt.xlabel('Day Count')\n",
    "plt.ylabel('Proportion of times Ad shown on that day')\n",
    "plt.title('Daily ad choice')\n",
    "plt.legend(['Ad 3'])"
   ]
  },
  {
   "cell_type": "code",
   "execution_count": 120,
   "metadata": {
    "id": "hOXZx6Jk96eF",
    "outputId": "7de8e62d-4362-4029-9dfd-ce57d05a3e2f"
   },
   "outputs": [
    {
     "data": {
      "text/plain": [
       "<matplotlib.legend.Legend at 0x7fe3307e6f70>"
      ]
     },
     "execution_count": 120,
     "metadata": {},
     "output_type": "execute_result"
    },
    {
     "data": {
      "image/png": "[encoded data removed]",
      "text/plain": [
       "<Figure size 432x288 with 1 Axes>"
      ]
     },
     "metadata": {
      "needs_background": "light"
     },
     "output_type": "display_data"
    }
   ],
   "source": [
    "plt.plot(ab['Ad4diff']/ab['TotalDiff'])\n",
    "plt.xlabel('Day Count')\n",
    "plt.ylabel('Proportion of times Ad shown on that day')\n",
    "plt.title('Daily ad choice')\n",
    "plt.legend(['Ad 4'])"
   ]
  },
  {
   "cell_type": "code",
   "execution_count": null,
   "metadata": {
    "id": "mKPj3KOz96eF"
   },
   "outputs": [],
   "source": []
  }
 ],
 "metadata": {
  "colab": {
   "collapsed_sections": [],
   "name": "02-MultiArmedBandits.ipynb",
   "provenance": []
  },
  "kernelspec": {
   "display_name": "Python 3",
   "language": "python",
   "name": "python3"
  },
  "language_info": {
   "codemirror_mode": {
    "name": "ipython",
    "version": 3
   },
   "file_extension": ".py",
   "mimetype": "text/x-python",
   "name": "python",
   "nbconvert_exporter": "python",
   "pygments_lexer": "ipython3",
   "version": "3.8.8"
  }
 },
 "nbformat": 4,
 "nbformat_minor": 4
}
