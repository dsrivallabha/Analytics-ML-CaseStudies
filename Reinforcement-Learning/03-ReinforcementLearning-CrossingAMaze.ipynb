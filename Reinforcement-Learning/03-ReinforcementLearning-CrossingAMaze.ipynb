{
 "cells": [
  {
   "cell_type": "code",
   "execution_count": 1,
   "metadata": {},
   "outputs": [],
   "source": [
    "import numpy as np\n",
    "import matplotlib.pyplot as plt\n",
    "import os"
   ]
  },
  {
   "cell_type": "markdown",
   "metadata": {},
   "source": [
    "## Set up the Maze environment"
   ]
  },
  {
   "cell_type": "code",
   "execution_count": 2,
   "metadata": {},
   "outputs": [],
   "source": [
    "class maze():\n",
    "    '''\n",
    "    class to define a maze of arbitrary size, with hurdles in between \n",
    "    '''\n",
    "    \n",
    "    def __init__(self, size = 4):\n",
    "        self.size=size\n",
    "        self.board = np.zeros((size, size))\n",
    "        \n",
    "        mvlist = []\n",
    "        for i in range(size):\n",
    "            for j in range(size):\n",
    "                mvlist.append((i,j))\n",
    "        self.movelist = mvlist\n",
    "        self.allmoves = self.movelist\n",
    "        \n",
    "        self.start = (0,0)\n",
    "        self.end = (size-1, size-1)\n",
    "        #print (self.end)\n",
    "        self.agent_pos = self.start\n",
    "        self.actions = ['N', 'E', 'S', 'W']\n",
    "    \n",
    "    def set_blocks(self, blocklist):\n",
    "        '''\n",
    "        function to define hurdles/closed cells\n",
    "        '''\n",
    "        mlist = self.movelist\n",
    "        nlist = []\n",
    "        \n",
    "        for mm in mlist:\n",
    "            if (mm in blocklist):\n",
    "                pass\n",
    "            else:\n",
    "                nlist.append(mm)\n",
    "                \n",
    "        self.movelist = nlist     \n",
    "            \n",
    "    def move(self, step):\n",
    "        '''\n",
    "        function to move the agent by the given step. if a step takes the agent out of the maze, \n",
    "        that step is not executed\n",
    "        '''\n",
    "        orow,ocol = self.agent_pos\n",
    "        \n",
    "        row,col = self.agent_pos\n",
    "        \n",
    "        #print (row, col)\n",
    "        if (step == 'N'):\n",
    "            row -= 1\n",
    "        elif (step =='E'):\n",
    "            col += 1\n",
    "        elif (step == 'S'):\n",
    "            row += 1\n",
    "        elif (step == 'W'):\n",
    "            col -= 1\n",
    "            \n",
    "        #print (row, col)\n",
    "        \n",
    "        reward = -0.1        \n",
    "        if ((row,col) in self.movelist):\n",
    "            reward = -(abs(row-self.end[0]) + abs(col-self.end[1]))\n",
    "        else:\n",
    "            reward = -100\n",
    "            row, col = orow, ocol\n",
    "            \n",
    "        # update agent position\n",
    "        self.agent_pos = (row,col)\n",
    "        \n",
    "        return (reward)       \n",
    "    \n",
    "    def print_board(self, fname='Test.png', count=0, move=0,reward=0):\n",
    "        '''\n",
    "        function to print board, to visualise agent movement\n",
    "        '''\n",
    "        agent_position = self.agent_pos\n",
    "        fields = list(self.allmoves)\n",
    "        movelist = list(self.movelist)\n",
    "        #blockedmoves = list(self.blocklist)\n",
    "        size = self.size\n",
    "        nfields = len(fields)\n",
    "        board = \"-----------------\\n\"\n",
    "\n",
    "        for i in range(0, nfields, size):\n",
    "            line = fields[i:i+size]\n",
    "            for field in line:\n",
    "                if field == agent_position:\n",
    "                    board += \"| A \"\n",
    "                elif field == fields[0]:\n",
    "                    board += \"| S \"\n",
    "                elif field == fields[-1]:\n",
    "                    board += \"| E \"\n",
    "                elif field not in movelist:\n",
    "                    board += \"| X \"\n",
    "                else:\n",
    "                    board += \"|   \"\n",
    "            board += \"|\\n\"\n",
    "            board += \"-----------------\\n\"     \n",
    "        #print(board)\n",
    "        #plt.rc('figure', figsize=(12, 7))\n",
    "        stepstr = 'step:' + str(count)\n",
    "        movestr = 'move:' + str(move)\n",
    "        rewardstr = 'reward:' + str(reward)\n",
    "        #plt.clf()\n",
    "        plt.close('all')\n",
    "        plt.rc('figure', figsize=(4,4))\n",
    "        plt.text(0.15, 0.9, str(stepstr), {'fontsize': 10}, fontproperties = 'monospace') # approach improved by OP -> monospace!\n",
    "        plt.text(0.45, 0.9, str(movestr), {'fontsize': 10}, fontproperties = 'monospace') # approach improved by OP -> monospace!\n",
    "        plt.text(0.25, 0.8, str(rewardstr), {'fontsize': 10}, fontproperties = 'monospace') # approach improved by OP -> monospace!\n",
    "        plt.text(0.1, 0.1, str(board), {'fontsize': 10}, fontproperties = 'monospace') # approach improved by OP -> monospace!\n",
    "        plt.axis('off')\n",
    "        plt.tight_layout()\n",
    "        plt.savefig(fname)\n",
    "        return ()\n",
    "    \n",
    "    ##############################################################################################################\n",
    "    ## functions for reinforcement learning\n",
    "    def state(self):\n",
    "        '''\n",
    "        function to return agent position, for use in the Q learning table\n",
    "        '''\n",
    "        return (self.agent_pos)\n",
    "    \n",
    "    def setpos(self, pos):\n",
    "        '''\n",
    "        function to set the starting position of agent at different locations\n",
    "        '''\n",
    "        self.agent_pos = pos"
   ]
  },
  {
   "cell_type": "markdown",
   "metadata": {},
   "source": [
    "### Debug the environment"
   ]
  },
  {
   "cell_type": "code",
   "execution_count": 3,
   "metadata": {},
   "outputs": [
    {
     "name": "stdout",
     "output_type": "stream",
     "text": [
      "Agent position is at (0, 0)\n",
      "move list is [(0, 0), (0, 1), (0, 2), (1, 0), (1, 2), (1, 3), (2, 0), (2, 2), (2, 3), (3, 0), (3, 1), (3, 2), (3, 3)]\n",
      "Yes\n",
      "(0, 0)\n"
     ]
    },
    {
     "data": {
      "text/plain": [
       "()"
      ]
     },
     "execution_count": 3,
     "metadata": {},
     "output_type": "execute_result"
    },
    {
     "data": {
      "image/png": "[encoded data removed]",
      "text/plain": [
       "<Figure size 288x288 with 1 Axes>"
      ]
     },
     "metadata": {
      "needs_background": "light"
     },
     "output_type": "display_data"
    }
   ],
   "source": [
    "Board = maze()\n",
    "print ('Agent position is at', Board.agent_pos)\n",
    "\n",
    "Board.set_blocks([(1,1), (2,1), (0,3)])\n",
    "print (\"move list is\", Board.movelist)\n",
    "\n",
    "if (0,1) in Board.movelist:\n",
    "    print ('Yes')\n",
    "    \n",
    "print (Board.agent_pos) \n",
    "Board.move('S')\n",
    "\n",
    "Board.print_board()"
   ]
  },
  {
   "cell_type": "code",
   "execution_count": 4,
   "metadata": {},
   "outputs": [],
   "source": [
    "######################################################################\n",
    "######### Functions used\n",
    "######################################################################"
   ]
  },
  {
   "cell_type": "markdown",
   "metadata": {},
   "source": [
    "## Reinforcement learning functions"
   ]
  },
  {
   "cell_type": "code",
   "execution_count": 5,
   "metadata": {},
   "outputs": [
    {
     "name": "stdout",
     "output_type": "stream",
     "text": [
      "(0, 0)\n",
      "['N', 'E', 'S', 'W']\n"
     ]
    },
    {
     "data": {
      "text/plain": [
       "()"
      ]
     },
     "execution_count": 5,
     "metadata": {},
     "output_type": "execute_result"
    },
    {
     "data": {
      "image/png": "[encoded data removed]",
      "text/plain": [
       "<Figure size 288x288 with 1 Axes>"
      ]
     },
     "metadata": {
      "needs_background": "light"
     },
     "output_type": "display_data"
    }
   ],
   "source": [
    "Board = maze(size=4)\n",
    "print (Board.agent_pos)\n",
    "#print (Board.board)\n",
    "print (Board.actions)\n",
    "Board.print_board()"
   ]
  },
  {
   "cell_type": "code",
   "execution_count": 6,
   "metadata": {},
   "outputs": [
    {
     "name": "stdout",
     "output_type": "stream",
     "text": [
      "4 4\n",
      "['N', 'E', 'S', 'W']\n",
      "Shape of Q table is (4, 4, 4)\n"
     ]
    },
    {
     "data": {
      "text/plain": [
       "'S'"
      ]
     },
     "execution_count": 6,
     "metadata": {},
     "output_type": "execute_result"
    }
   ],
   "source": [
    "size=Board.size\n",
    "actions = Board.actions\n",
    "nactions = len(actions)\n",
    "print (size, nactions)\n",
    "print (actions)\n",
    "alpha = 0.5\n",
    "gamma = 0.1\n",
    "epsilon = 1.0\n",
    "\n",
    "##################################################################################\n",
    "## Declare the q table as an array of size (n X n) where n is the size of the maze\n",
    "## State is the location of agent (i,j) in the Qtable\n",
    "## actions are 4 movements, N, E, W, and S\n",
    "\n",
    "def initQtable():\n",
    "    Q = np.zeros((size, size, nactions))\n",
    "    for i in range(size):\n",
    "        for j in range(size):\n",
    "            for k in range(nactions):\n",
    "                Q[i,j,k] = 0.001 * np.random.random()\n",
    "    print ('Shape of Q table is', np.shape(Q))\n",
    "    return (Q)\n",
    "    \n",
    "def retbestact(Qtable, state):\n",
    "    '''\n",
    "    Qtable: as declared above, is a np array\n",
    "    state: comes from enviornment is a tuple with three values\n",
    "    '''\n",
    "    #print (state)\n",
    "    maxval = np.max(Qtable[state])\n",
    "    argmax = np.argmax(Qtable[state])\n",
    "    \n",
    "    return (maxval, argmax)\n",
    "\n",
    "##################################################################################\n",
    "## Function to return action - based on greedy epsilon\n",
    "def chooseaction(Qtable, state):\n",
    "    #print ('Hello')\n",
    "\n",
    "    maxval, argmax = retbestact(Qtable, state)\n",
    "    #bestact = actions[argmax]\n",
    "    \n",
    "    ### If random number greater than epsion, choose exploitaiton\n",
    "    ### else, choose exploration\n",
    "    if (np.random.random() > epsilon):\n",
    "        bestact = actions[argmax]\n",
    "        flag = 'best'\n",
    "    else:\n",
    "        bestact = np.random.choice(actions)\n",
    "        flag = 'random' \n",
    "    return (bestact)\n",
    "\n",
    "### Test the RL functions\n",
    "Q = initQtable()\n",
    "\n",
    "## Test the return best action function\n",
    "#Q[2,1,3] = 5\n",
    "#Q[2,1,0] = 15\n",
    "\n",
    "retbestact(Q, (2,1))\n",
    "\n",
    "## Test the choose action function\n",
    "chooseaction(Q, (2,1))"
   ]
  },
  {
   "cell_type": "code",
   "execution_count": 7,
   "metadata": {},
   "outputs": [
    {
     "data": {
      "text/plain": [
       "array([[[4.99731038e-04, 9.95375265e-04, 1.40805811e-05, 9.44221545e-04],\n",
       "        [9.27776662e-04, 3.98468621e-04, 1.91956046e-04, 4.99118740e-04],\n",
       "        [3.72030319e-04, 1.39185439e-04, 8.40887041e-05, 2.69026607e-04],\n",
       "        [1.14154133e-04, 5.25268587e-05, 8.30024865e-04, 4.92743060e-04]],\n",
       "\n",
       "       [[2.59538608e-04, 1.22424412e-04, 7.22465618e-04, 6.12782584e-04],\n",
       "        [8.55375725e-04, 7.99408465e-04, 7.84366171e-04, 8.86015747e-04],\n",
       "        [1.86587890e-04, 9.66419890e-04, 1.34211208e-05, 8.06925681e-04],\n",
       "        [6.96435492e-04, 3.24948398e-04, 4.86916982e-04, 2.42898285e-04]],\n",
       "\n",
       "       [[1.14930923e-04, 9.68044259e-04, 2.78666250e-04, 8.82915635e-05],\n",
       "        [1.33752258e-04, 9.70679888e-04, 9.12224893e-04, 5.89422243e-04],\n",
       "        [1.41574939e-04, 5.05810704e-04, 5.83274423e-04, 6.86083559e-04],\n",
       "        [2.12146641e-04, 3.88030906e-04, 3.78113644e-04, 8.44392305e-04]],\n",
       "\n",
       "       [[9.07851531e-04, 1.18348668e-04, 8.32411767e-04, 6.98467910e-04],\n",
       "        [8.90086906e-04, 8.12174493e-04, 5.06582663e-04, 8.73324728e-05],\n",
       "        [7.21601791e-05, 5.86435690e-04, 6.55172059e-04, 2.55488366e-04],\n",
       "        [9.14665529e-05, 5.34118121e-04, 4.32252792e-05, 1.21421412e-04]]])"
      ]
     },
     "execution_count": 7,
     "metadata": {},
     "output_type": "execute_result"
    }
   ],
   "source": [
    "Q"
   ]
  },
  {
   "cell_type": "markdown",
   "metadata": {},
   "source": [
    "## Training the agent"
   ]
  },
  {
   "cell_type": "markdown",
   "metadata": {},
   "source": [
    "## Exploration"
   ]
  },
  {
   "cell_type": "code",
   "execution_count": 8,
   "metadata": {},
   "outputs": [
    {
     "name": "stdout",
     "output_type": "stream",
     "text": [
      "[(0, 0), (0, 1), (0, 2), (1, 0), (1, 2), (1, 3), (2, 1), (2, 2), (2, 3), (3, 0), (3, 1), (3, 2), (3, 3)]\n",
      "1\n",
      "Shape of Q table is (4, 4, 4)\n",
      "()\n",
      "total steps 10000\n"
     ]
    },
    {
     "data": {
      "image/png": "[encoded data removed]",
      "text/plain": [
       "<Figure size 288x288 with 1 Axes>"
      ]
     },
     "metadata": {
      "needs_background": "light"
     },
     "output_type": "display_data"
    }
   ],
   "source": [
    "## Initialize the board\n",
    "Board = maze(size=4)\n",
    "Board.set_blocks([(1,1), (2,0), (0,3)])\n",
    "print (Board.movelist)\n",
    "\n",
    "## set up highest epsilon, for exploration\n",
    "epsilon=1\n",
    "print (epsilon)\n",
    "\n",
    "## count steps in each direction\n",
    "movecounter = {'N':0, 'E':0, 'S':0, 'W':0}\n",
    "## count number of steps\n",
    "count = 0\n",
    "\n",
    "# Q table\n",
    "Q = initQtable()\n",
    "\n",
    "a = list(Board.movelist)\n",
    "print (Board.print_board())\n",
    "\n",
    "#location\n",
    "currstate = Board.state()\n",
    "#print (currstate)\n",
    "\n",
    "for i in range(10000):\n",
    "    \n",
    "    # choose a step to move\n",
    "    mve = chooseaction(Q, currstate)\n",
    "    movecounter[mve] += 1\n",
    "    # get the reward for the move and make the move\n",
    "    reward = Board.move(mve)\n",
    "\n",
    "    newstate = Board.state()\n",
    "    #print (newstate)\n",
    "\n",
    "    maxval, argmax = retbestact(Q, newstate)\n",
    "\n",
    "    #  use arg max\n",
    "    #nextmaxre  = argmax\n",
    "\n",
    "    # use max val\n",
    "    nextmaxre  = maxval\n",
    "    \n",
    "    #print ('nextmaxreward', nextmaxre)\n",
    "\n",
    "    loc = (currstate[0], currstate[1], actions.index(mve))\n",
    "\n",
    "    Q[loc] += alpha * (reward + gamma * nextmaxre - Q[loc])\n",
    "    \n",
    "    currstate = newstate\n",
    "\n",
    "    count += 1\n",
    "print ('total steps', count)"
   ]
  },
  {
   "cell_type": "code",
   "execution_count": 9,
   "metadata": {},
   "outputs": [
    {
     "data": {
      "text/plain": [
       "{'N': 2479, 'E': 2475, 'S': 2527, 'W': 2519}"
      ]
     },
     "execution_count": 9,
     "metadata": {},
     "output_type": "execute_result"
    }
   ],
   "source": [
    "movecounter"
   ]
  },
  {
   "cell_type": "code",
   "execution_count": 10,
   "metadata": {},
   "outputs": [
    {
     "name": "stdout",
     "output_type": "stream",
     "text": [
      "[[[-1.00543210e+02 -5.43210101e+00 -5.65432101e+00 -1.00543210e+02]\n",
      "  [-1.00432101e+02 -4.32101010e+00 -1.00432101e+02 -6.54321010e+00]\n",
      "  [-1.00321010e+02 -1.00321010e+02 -3.21010101e+00 -5.43210101e+00]\n",
      "  [ 7.70287401e-04  8.89361804e-04  4.94682281e-04  3.87229217e-04]]\n",
      "\n",
      " [[-6.54321010e+00 -1.00654321e+02 -1.00654321e+02 -1.00654321e+02]\n",
      "  [ 3.54070908e-05  8.04554889e-04  7.08006801e-04  6.75284604e-04]\n",
      "  [-4.32101010e+00 -2.10101010e+00 -2.10101010e+00 -1.00210101e+02]\n",
      "  [-1.00101010e+02 -1.00101010e+02 -1.01010101e+00 -3.21010101e+00]]\n",
      "\n",
      " [[ 1.56906052e-04  7.13176028e-04  3.27952427e-04  9.57279378e-04]\n",
      "  [-1.00210101e+02 -2.10101010e+00 -2.10101010e+00 -1.00210101e+02]\n",
      "  [-3.21010101e+00 -1.01010101e+00 -1.01010101e+00 -3.21010101e+00]\n",
      "  [-2.10101010e+00 -1.00010101e+02 -1.01010101e-01 -2.10101010e+00]]\n",
      "\n",
      " [[-1.00210101e+02 -2.10101010e+00 -1.00210101e+02 -1.00210101e+02]\n",
      "  [-3.21010101e+00 -1.01010101e+00 -1.00101010e+02 -3.21010101e+00]\n",
      "  [-2.10101010e+00 -1.01010101e-01 -1.00010101e+02 -2.10101010e+00]\n",
      "  [-1.01010101e+00 -1.00101010e+02 -1.00101010e+02 -1.01010101e+00]]]\n"
     ]
    }
   ],
   "source": [
    "print (Q)"
   ]
  },
  {
   "cell_type": "markdown",
   "metadata": {},
   "source": [
    "## Checking the trained agent movement - Exploitation"
   ]
  },
  {
   "cell_type": "code",
   "execution_count": 12,
   "metadata": {},
   "outputs": [
    {
     "name": "stdout",
     "output_type": "stream",
     "text": [
      "Step-00.jpg\n",
      "(0, 0) E\n",
      "Step-01.jpg\n",
      "(0, 1) E\n",
      "Step-02.jpg\n",
      "(0, 2) S\n",
      "Step-03.jpg\n",
      "(1, 2) E\n",
      "Step-04.jpg\n",
      "(1, 3) S\n",
      "Step-05.jpg\n",
      "(2, 3) S\n",
      "Step-06.jpg\n"
     ]
    },
    {
     "data": {
      "image/png": "[encoded data removed]",
      "text/plain": [
       "<Figure size 288x288 with 1 Axes>"
      ]
     },
     "metadata": {
      "needs_background": "light"
     },
     "output_type": "display_data"
    }
   ],
   "source": [
    "Board = maze(size=4)\n",
    "Board.set_blocks([(1,1), (2,0), (0,3)])\n",
    "epsilon = 0\n",
    "ll = []\n",
    "\n",
    "fname='Step-00.jpg'\n",
    "print (fname)\n",
    "Board.print_board(fname = fname, count = 0, move = '')\n",
    "    \n",
    "for i in range(10):\n",
    "    currstate = Board.state()\n",
    "    if (currstate == (3,3)):\n",
    "        break\n",
    "    mve = chooseaction(Q, currstate)\n",
    "    Board.move(mve)\n",
    "    print (currstate, mve)\n",
    "    fname='Step-' + str(i+1).zfill(2) + '.jpg'\n",
    "    print (fname)\n",
    "    Board.print_board(fname = fname, count = i+1, move = mve)"
   ]
  },
  {
   "cell_type": "code",
   "execution_count": null,
   "metadata": {},
   "outputs": [],
   "source": []
  }
 ],
 "metadata": {
  "kernelspec": {
   "display_name": "Python 3",
   "language": "python",
   "name": "python3"
  },
  "language_info": {
   "codemirror_mode": {
    "name": "ipython",
    "version": 3
   },
   "file_extension": ".py",
   "mimetype": "text/x-python",
   "name": "python",
   "nbconvert_exporter": "python",
   "pygments_lexer": "ipython3",
   "version": "3.8.5"
  }
 },
 "nbformat": 4,
 "nbformat_minor": 4
}
